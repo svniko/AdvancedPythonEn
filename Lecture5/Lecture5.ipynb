{
 "cells": [
  {
   "cell_type": "markdown",
   "id": "4bee3149",
   "metadata": {},
   "source": [
    "```\n",
    "Assoc. Prof. Svitlana Kovalenko\n",
    "Department of Software Engineering\n",
    "and Management Intelligent Technologies\n",
    "NTU KhPI\n",
    "```"
   ]
  },
  {
   "cell_type": "markdown",
   "id": "ab5b2df6",
   "metadata": {},
   "source": [
    "# Lecture 5\n"
   ]
  },
  {
   "cell_type": "markdown",
   "id": "0a3fb7e9",
   "metadata": {},
   "source": [
    "## Instance variables and methods"
   ]
  },
  {
   "cell_type": "markdown",
   "id": "6da61e6b",
   "metadata": {},
   "source": [
    "Last time we talked about instance methods and variables."
   ]
  },
  {
   "cell_type": "code",
   "execution_count": 53,
   "id": "7edc643d",
   "metadata": {},
   "outputs": [
    {
     "name": "stdout",
     "output_type": "stream",
     "text": [
      "Mark Darcy\n"
     ]
    }
   ],
   "source": [
    "class Person:\n",
    "    \n",
    "    def __init__(self, name, last_name):\n",
    "        self.name = name\n",
    "        self.last_name = last_name\n",
    "        self.email = f'{name}.{last_name}@khpi.edu.ua'\n",
    "        \n",
    "    def fullname(self):\n",
    "        return f'{self.name} {self.last_name}'\n",
    "    \n",
    "mark = Person('Mark', 'Darcy')\n",
    "john = Person('John', 'Thornton')\n",
    "mary = Person('Mary', 'Shelley')  \n",
    "\n",
    "print(mark.fullname())"
   ]
  },
  {
   "cell_type": "markdown",
   "id": "e4cd249f",
   "metadata": {},
   "source": [
    "## Class variables\n",
    "\n",
    "Suppose we are creating an application for a fitness club, so our person has to pay some fee and may get some discount.\n",
    "Let's assume our fitness club give a 2% discount every year. "
   ]
  },
  {
   "cell_type": "code",
   "execution_count": 54,
   "id": "5fb1f0d6",
   "metadata": {},
   "outputs": [],
   "source": [
    "class Person:\n",
    "    \n",
    "    def __init__(self, name, last_name, fee):\n",
    "        self.name = name\n",
    "        self.last_name = last_name\n",
    "        self.email = f'{name}.{last_name}@khpi.edu.ua'\n",
    "        self.fee = fee\n",
    "    \n",
    "    def get_discount(self):\n",
    "        self.fee = int(self.fee * 0.98)\n",
    "        \n",
    "    def fullname(self):\n",
    "        return f'{self.name} {self.last_name}'\n",
    "    \n",
    "mark = Person('Mark', 'Darcy', 300)"
   ]
  },
  {
   "cell_type": "code",
   "execution_count": 92,
   "id": "b8cd2a69",
   "metadata": {},
   "outputs": [
    {
     "name": "stdout",
     "output_type": "stream",
     "text": [
      "300\n",
      "294\n"
     ]
    }
   ],
   "source": [
    "print(mark.fee)\n",
    "mark.get_discount()\n",
    "print(mark.fee)"
   ]
  },
  {
   "cell_type": "markdown",
   "id": "e87f7475",
   "metadata": {},
   "source": [
    "Now we hardcoded the amount of discount. what if we want create a variable for thіs discount. In this case we should be able get that discount not only for some specific instance, but also for the whole class"
   ]
  },
  {
   "cell_type": "code",
   "execution_count": 55,
   "id": "3833ae19",
   "metadata": {},
   "outputs": [],
   "source": [
    "class Person:\n",
    "    \n",
    "    discount_amount = 0.02\n",
    "    \n",
    "    def __init__(self, name, last_name, fee):\n",
    "        self.name = name\n",
    "        self.last_name = last_name\n",
    "        self.email = f'{name}.{last_name}@khpi.edu.ua'\n",
    "        self.fee = fee\n",
    "    \n",
    "    def get_discount(self):\n",
    "        self.fee = int(self.fee*(1-discount_amount))\n",
    "        \n",
    "    def fullname(self):\n",
    "        return f'{self.name} {self.last_name}'\n",
    "    \n",
    "mark = Person('Mark', 'Darcy', 300)"
   ]
  },
  {
   "cell_type": "markdown",
   "id": "7ae1d81f",
   "metadata": {},
   "source": [
    "If we run it we'll have a `NameError: name 'discount' is not defined`"
   ]
  },
  {
   "cell_type": "code",
   "execution_count": 56,
   "id": "a483b923",
   "metadata": {},
   "outputs": [
    {
     "name": "stdout",
     "output_type": "stream",
     "text": [
      "300\n"
     ]
    },
    {
     "ename": "NameError",
     "evalue": "name 'discount_amount' is not defined",
     "output_type": "error",
     "traceback": [
      "\u001b[1;31m---------------------------------------------------------------------------\u001b[0m",
      "\u001b[1;31mNameError\u001b[0m                                 Traceback (most recent call last)",
      "Cell \u001b[1;32mIn[56], line 2\u001b[0m\n\u001b[0;32m      1\u001b[0m \u001b[38;5;28mprint\u001b[39m(mark\u001b[38;5;241m.\u001b[39mfee)\n\u001b[1;32m----> 2\u001b[0m \u001b[43mmark\u001b[49m\u001b[38;5;241;43m.\u001b[39;49m\u001b[43mget_discount\u001b[49m\u001b[43m(\u001b[49m\u001b[43m)\u001b[49m\n\u001b[0;32m      3\u001b[0m \u001b[38;5;28mprint\u001b[39m(mark\u001b[38;5;241m.\u001b[39mfee)\n",
      "Cell \u001b[1;32mIn[55], line 12\u001b[0m, in \u001b[0;36mPerson.get_discount\u001b[1;34m(self)\u001b[0m\n\u001b[0;32m     11\u001b[0m \u001b[38;5;28;01mdef\u001b[39;00m \u001b[38;5;21mget_discount\u001b[39m(\u001b[38;5;28mself\u001b[39m):\n\u001b[1;32m---> 12\u001b[0m     \u001b[38;5;28mself\u001b[39m\u001b[38;5;241m.\u001b[39mfee \u001b[38;5;241m=\u001b[39m \u001b[38;5;28mint\u001b[39m(\u001b[38;5;28mself\u001b[39m\u001b[38;5;241m.\u001b[39mfee\u001b[38;5;241m*\u001b[39m(\u001b[38;5;241m1\u001b[39m\u001b[38;5;241m-\u001b[39m\u001b[43mdiscount_amount\u001b[49m))\n",
      "\u001b[1;31mNameError\u001b[0m: name 'discount_amount' is not defined"
     ]
    }
   ],
   "source": [
    "print(mark.fee)\n",
    "mark.get_discount()\n",
    "print(mark.fee)"
   ]
  },
  {
   "cell_type": "markdown",
   "id": "14648ca9",
   "metadata": {},
   "source": [
    "That's because when we access these class variables we need to either access them through the class itself or an\n",
    "instance of the class so within the a get_discount we could either type `Person.discount_amount`"
   ]
  },
  {
   "cell_type": "code",
   "execution_count": 57,
   "id": "92a8a215",
   "metadata": {},
   "outputs": [
    {
     "name": "stdout",
     "output_type": "stream",
     "text": [
      "300\n",
      "294\n"
     ]
    }
   ],
   "source": [
    "class Person:\n",
    "    \n",
    "    discount_amount = 0.02\n",
    "    \n",
    "    def __init__(self, name, last_name, fee):\n",
    "        self.name = name\n",
    "        self.last_name = last_name\n",
    "        self.email = f'{name}.{last_name}@khpi.edu.ua'\n",
    "        self.fee = fee\n",
    "    \n",
    "    def get_discount(self):\n",
    "        self.fee = int(self.fee*(1 - Person.discount_amount))\n",
    "        \n",
    "    def fullname(self):\n",
    "        return f'{self.name} {self.last_name}'\n",
    "    \n",
    "mark = Person('Mark', 'Darcy', 300)\n",
    "\n",
    "print(mark.fee)\n",
    "mark.get_discount()\n",
    "print(mark.fee)"
   ]
  },
  {
   "cell_type": "markdown",
   "id": "ef02422e",
   "metadata": {},
   "source": [
    "or we can also access through the instance so we can do `self.discount_amount` and if we run that then you can see that that works as well "
   ]
  },
  {
   "cell_type": "code",
   "execution_count": 58,
   "id": "718f5d2d",
   "metadata": {},
   "outputs": [
    {
     "name": "stdout",
     "output_type": "stream",
     "text": [
      "300\n",
      "294\n"
     ]
    }
   ],
   "source": [
    "class Person:\n",
    "    \n",
    "    discount_amount = 0.02\n",
    "    \n",
    "    def __init__(self, name, last_name, fee):\n",
    "        self.name = name\n",
    "        self.last_name = last_name\n",
    "        self.email = f'{name}.{last_name}@khpi.edu.ua'\n",
    "        self.fee = fee\n",
    "    \n",
    "    def get_discount(self):\n",
    "        self.fee = int(self.fee*(1-self.discount_amount))\n",
    "        \n",
    "    def fullname(self):\n",
    "        return f'{self.name} {self.last_name}'\n",
    "    \n",
    "mark = Person('Mark', 'Darcy', 300)\n",
    "\n",
    "print(mark.fee)\n",
    "mark.get_discount()\n",
    "print(mark.fee)"
   ]
  },
  {
   "cell_type": "markdown",
   "id": "91a6a705",
   "metadata": {},
   "source": [
    "now that might be a little confusing because if these are class variables and why can we access them from our instance. Let's print out a few lines here to get a better idea of what's going on."
   ]
  },
  {
   "cell_type": "code",
   "execution_count": 59,
   "id": "10d9e234",
   "metadata": {},
   "outputs": [
    {
     "name": "stdout",
     "output_type": "stream",
     "text": [
      "0.02\n",
      "0.02\n",
      "0.02\n"
     ]
    }
   ],
   "source": [
    "mary = Person('Mary', 'Shelley', 250)\n",
    "\n",
    "print(Person.discount_amount)\n",
    "print(mark.discount_amount)\n",
    "print(mary.discount_amount)"
   ]
  },
  {
   "cell_type": "markdown",
   "id": "cd64b96f",
   "metadata": {},
   "source": [
    "When we try to access an attribute on an instance it will first check if the instance contains that attribute and if it doesn't then it will see if the class (or any class that it inherits from) contains that attribute so when we access `discount_amount` from our instances here they don't actually have that attribute themselves they're\n",
    "accessing the class's `discount_amount `attribute.\n"
   ]
  },
  {
   "cell_type": "code",
   "execution_count": 60,
   "id": "1a715734",
   "metadata": {
    "scrolled": true
   },
   "outputs": [
    {
     "data": {
      "text/plain": [
       "{'name': 'Mark',\n",
       " 'last_name': 'Darcy',\n",
       " 'email': 'Mark.Darcy@khpi.edu.ua',\n",
       " 'fee': 294}"
      ]
     },
     "execution_count": 60,
     "metadata": {},
     "output_type": "execute_result"
    }
   ],
   "source": [
    "mark.__dict__"
   ]
  },
  {
   "cell_type": "code",
   "execution_count": 61,
   "id": "9f9d835f",
   "metadata": {},
   "outputs": [
    {
     "data": {
      "text/plain": [
       "{'name': 'Mary',\n",
       " 'last_name': 'Shelley',\n",
       " 'email': 'Mary.Shelley@khpi.edu.ua',\n",
       " 'fee': 250}"
      ]
     },
     "execution_count": 61,
     "metadata": {},
     "output_type": "execute_result"
    }
   ],
   "source": [
    "mary.__dict__"
   ]
  },
  {
   "cell_type": "code",
   "execution_count": 63,
   "id": "c90bd473",
   "metadata": {},
   "outputs": [
    {
     "name": "stdout",
     "output_type": "stream",
     "text": [
      "{'__module__': '__main__', 'discount_amount': 0.02, '__init__': <function Person.__init__ at 0x033C87C0>, 'get_discount': <function Person.get_discount at 0x033C84A8>, 'fullname': <function Person.fullname at 0x033C84F0>, '__dict__': <attribute '__dict__' of 'Person' objects>, '__weakref__': <attribute '__weakref__' of 'Person' objects>, '__doc__': None}\n"
     ]
    }
   ],
   "source": [
    "print(Person.__dict__)"
   ]
  },
  {
   "cell_type": "markdown",
   "id": "747bd5ab",
   "metadata": {},
   "source": [
    "Let's look to an important concept. \n"
   ]
  },
  {
   "cell_type": "code",
   "execution_count": 64,
   "id": "a90aa75d",
   "metadata": {},
   "outputs": [],
   "source": [
    "Person.discount_amount = 0.03"
   ]
  },
  {
   "cell_type": "code",
   "execution_count": 65,
   "id": "e568f557",
   "metadata": {},
   "outputs": [
    {
     "name": "stdout",
     "output_type": "stream",
     "text": [
      "0.03\n",
      "0.03\n",
      "0.03\n"
     ]
    }
   ],
   "source": [
    "print(Person.discount_amount)\n",
    "print(mark.discount_amount)\n",
    "print(mary.discount_amount)"
   ]
  },
  {
   "cell_type": "markdown",
   "id": "94520a6a",
   "metadata": {},
   "source": [
    "It change `discount_amount` for the class and all the instances\n",
    "Now let's  change`discount_amount` using the instance instead using the class"
   ]
  },
  {
   "cell_type": "code",
   "execution_count": 66,
   "id": "604988b1",
   "metadata": {},
   "outputs": [],
   "source": [
    "mark.discount_amount = 0.05"
   ]
  },
  {
   "cell_type": "code",
   "execution_count": 67,
   "id": "f6d084aa",
   "metadata": {},
   "outputs": [
    {
     "name": "stdout",
     "output_type": "stream",
     "text": [
      "0.03\n",
      "0.05\n",
      "0.03\n"
     ]
    }
   ],
   "source": [
    "print(Person.discount_amount)\n",
    "print(mark.discount_amount)\n",
    "print(mary.discount_amount)"
   ]
  },
  {
   "cell_type": "markdown",
   "id": "2a53c4a5",
   "metadata": {},
   "source": [
    "You can see that it only changed `discount_amount` for `mark`. It's the only one that has\n",
    "this five percent.\n",
    "When we made this assignment it actually created the discount_amount\n",
    "attribute within `mark` so if we print out `mark` we can see that `mark` has `discount_amount` within its name space equal to five percent. And it finds this within its own namespace and returns that value before going and searching the class"
   ]
  },
  {
   "cell_type": "code",
   "execution_count": 68,
   "id": "3894eaaf",
   "metadata": {
    "scrolled": false
   },
   "outputs": [
    {
     "data": {
      "text/plain": [
       "{'name': 'Mark',\n",
       " 'last_name': 'Darcy',\n",
       " 'email': 'Mark.Darcy@khpi.edu.ua',\n",
       " 'fee': 294,\n",
       " 'discount_amount': 0.05}"
      ]
     },
     "execution_count": 68,
     "metadata": {},
     "output_type": "execute_result"
    }
   ],
   "source": [
    "mark.__dict__"
   ]
  },
  {
   "cell_type": "markdown",
   "id": "440e779f",
   "metadata": {},
   "source": [
    "And we didn't set that `discount_amount` on `mary` so that still falls back to the classes value"
   ]
  },
  {
   "cell_type": "code",
   "execution_count": 69,
   "id": "2cd55ad9",
   "metadata": {
    "scrolled": true
   },
   "outputs": [
    {
     "data": {
      "text/plain": [
       "{'name': 'Mary',\n",
       " 'last_name': 'Shelley',\n",
       " 'email': 'Mary.Shelley@khpi.edu.ua',\n",
       " 'fee': 250}"
      ]
     },
     "execution_count": 69,
     "metadata": {},
     "output_type": "execute_result"
    }
   ],
   "source": [
    "mary.__dict__"
   ]
  },
  {
   "cell_type": "markdown",
   "id": "3e14157d",
   "metadata": {},
   "source": [
    "Let's now apply the get_discount() method to our mark and mary"
   ]
  },
  {
   "cell_type": "code",
   "execution_count": 73,
   "id": "48413579",
   "metadata": {},
   "outputs": [
    {
     "name": "stdout",
     "output_type": "stream",
     "text": [
      "0.02\n",
      "0.05\n",
      "0.02\n",
      "\n",
      "300\n",
      "300\n",
      "\n",
      "285\n",
      "294\n"
     ]
    }
   ],
   "source": [
    "class Person:\n",
    "    \n",
    "    discount_amount = 0.02\n",
    "    \n",
    "    def __init__(self, name, last_name, fee):\n",
    "        self.name = name\n",
    "        self.last_name = last_name\n",
    "        self.email = f'{name}.{last_name}@khpi.edu.ua'\n",
    "        self.fee = fee\n",
    "    \n",
    "    def get_discount(self):\n",
    "        self.fee = int(self.fee*(1 - self.discount_amount))\n",
    "        \n",
    "    def fullname(self):\n",
    "        return f'{self.name} {self.last_name}'\n",
    "    \n",
    "mark = Person('Mark', 'Darcy', 300)\n",
    "mary = Person('Mary', 'Shelley', 300)\n",
    "\n",
    "mark.discount_amount = 0.05\n",
    "\n",
    "print(Person.discount_amount)\n",
    "print(mark.discount_amount)\n",
    "print(mary.discount_amount)\n",
    "\n",
    "print()\n",
    "\n",
    "print(mark.fee)\n",
    "print(mary.fee)\n",
    "\n",
    "print()\n",
    "\n",
    "mark.get_discount()\n",
    "mary.get_discount()\n",
    "\n",
    "print(mark.fee)\n",
    "print(mary.fee)\n"
   ]
  },
  {
   "cell_type": "markdown",
   "id": "a51bb16b",
   "metadata": {},
   "source": [
    "And now instead of `self.get_discount()` we will write `Person.get_discount()`"
   ]
  },
  {
   "cell_type": "code",
   "execution_count": 74,
   "id": "04139966",
   "metadata": {
    "scrolled": false
   },
   "outputs": [
    {
     "name": "stdout",
     "output_type": "stream",
     "text": [
      "0.02\n",
      "0.05\n",
      "0.02\n",
      "\n",
      "300\n",
      "300\n",
      "\n",
      "294\n",
      "294\n"
     ]
    }
   ],
   "source": [
    "class Person:\n",
    "    \n",
    "    discount_amount = 0.02\n",
    "    \n",
    "    def __init__(self, name, last_name, fee):\n",
    "        self.name = name\n",
    "        self.last_name = last_name\n",
    "        self.email = f'{name}.{last_name}@khpi.edu.ua'\n",
    "        self.fee = fee\n",
    "    \n",
    "    def get_discount(self):\n",
    "        self.fee = int(self.fee*(1 - Person.discount_amount))\n",
    "        \n",
    "    def fullname(self):\n",
    "        return f'{self.name} {self.last_name}'\n",
    "    \n",
    "mark = Person('Mark', 'Darcy', 300)\n",
    "mary = Person('Mary', 'Shelley', 300)\n",
    "\n",
    "mark.discount_amount = 0.05\n",
    "\n",
    "print(Person.discount_amount)\n",
    "print(mark.discount_amount)\n",
    "print(mary.discount_amount)\n",
    "\n",
    "print()\n",
    "\n",
    "print(mark.fee)\n",
    "print(mary.fee)\n",
    "\n",
    "print()\n",
    "\n",
    "mark.get_discount()\n",
    "mary.get_discount()\n",
    "\n",
    "print(mark.fee)\n",
    "print(mary.fee)\n",
    "\n"
   ]
  },
  {
   "cell_type": "code",
   "execution_count": 72,
   "id": "dc56f1a4",
   "metadata": {},
   "outputs": [
    {
     "data": {
      "text/plain": [
       "0.05"
      ]
     },
     "execution_count": 72,
     "metadata": {},
     "output_type": "execute_result"
    }
   ],
   "source": [
    "mark.discount_amount"
   ]
  },
  {
   "cell_type": "markdown",
   "id": "efd1c3cc",
   "metadata": {},
   "source": [
    "That's an important concept to understand because up here and our apply `get_discount()` method we can see that we could get different results depending on whether we did the `self` which is the **instance** `discount_amount` or the **Person class** `discount_amount`"
   ]
  },
  {
   "cell_type": "markdown",
   "id": "5b6f463c",
   "metadata": {},
   "source": [
    "We can use this concept, for instance, for calculating the total number of instances of the class.\n",
    "\n"
   ]
  },
  {
   "cell_type": "code",
   "execution_count": 75,
   "id": "de21acd3",
   "metadata": {},
   "outputs": [
    {
     "name": "stdout",
     "output_type": "stream",
     "text": [
      "0\n",
      "3\n"
     ]
    }
   ],
   "source": [
    "class Person:\n",
    "    \n",
    "    discount_amount = 0.02\n",
    "    num_of_instances = 0\n",
    "    \n",
    "    def __init__(self, name, last_name, fee):\n",
    "        self.name = name\n",
    "        self.last_name = last_name\n",
    "        self.email = f'{name}.{last_name}@khpi.edu.ua'\n",
    "        self.fee = fee\n",
    "        \n",
    "        Person.num_of_instances += 1\n",
    "    \n",
    "    def get_discount(self):\n",
    "        self.fee = int(self.fee * (1 - Person.discount_amount))\n",
    "        \n",
    "    def fullname(self):\n",
    "        return f'{self.name} {self.last_name}'\n",
    "    \n",
    "    \n",
    "    \n",
    "print(Person.num_of_instances)\n",
    "\n",
    "mark = Person('Mark', 'Darcy', 300)\n",
    "mary = Person('Mary', 'Shelley', 250)\n",
    "john = Person('John', 'Thornton', 350)\n",
    "\n",
    "print(Person.num_of_instances)"
   ]
  },
  {
   "cell_type": "markdown",
   "id": "8f284d1c",
   "metadata": {},
   "source": [
    "### Instance (regular) methods, class methods, static methods"
   ]
  },
  {
   "cell_type": "markdown",
   "id": "b0ff6d62",
   "metadata": {},
   "source": [
    "- **Instance methods**: Used to access or modify the instance state. If we use instance variables inside a method, such methods are called instance methods. It must have a `self` parameter to refer to the current object.\n",
    "- **Class methods**: Used to access or modify the class state. In method implementation, if we use only class variables, then such type of methods we should declare as a class method. The class method has a `cls` parameter which refers to the class.\n",
    "- **Static method**:  can't access or modify either the instance of the class or the class itself"
   ]
  },
  {
   "cell_type": "markdown",
   "id": "b0c66ac3",
   "metadata": {},
   "source": [
    "Let's add a class method to set the amount of discount. \n",
    "```Python\n",
    "@classmethod\n",
    "def set_discount_amount(cls, amount):\n",
    "    cls.discount_amount = amount\n",
    "    \n",
    "```\n",
    "So to turn an instance method into a class method we need a *decorator* to the top called `@classmethod`.  Also we receive the class as our first argument instead of the instance now by convention with a instance method we called this instance variable `self` and there's a common\n",
    "convention for class variables too and that is `cls`. \n",
    "\n",
    "Now within this `set_discount_amount()` method we are working with class instead of the instance:"
   ]
  },
  {
   "cell_type": "code",
   "execution_count": 76,
   "id": "efaf8468",
   "metadata": {},
   "outputs": [
    {
     "name": "stdout",
     "output_type": "stream",
     "text": [
      "Before set_discount_amount(0.04)\n",
      "0.02\n",
      "0.02\n",
      "0.02\n",
      "After set_discount_amount(0.04)\n",
      "0.04\n",
      "0.04\n",
      "0.04\n"
     ]
    }
   ],
   "source": [
    "class Person:\n",
    "    \n",
    "    discount_amount = 0.02\n",
    "    num_of_instances = 0\n",
    "    \n",
    "    def __init__(self, name, last_name, fee):\n",
    "        self.name = name\n",
    "        self.last_name = last_name\n",
    "        self.email = f'{name}.{last_name}@khpi.edu.ua'\n",
    "        self.fee = fee\n",
    "        \n",
    "        Person.num_of_instances += 1\n",
    "    \n",
    "    def get_discount(self):\n",
    "        self.fee = int(self.fee * (1 - Person.discount_amount))\n",
    "        \n",
    "    def fullname(self):\n",
    "        return f'{self.name} {self.last_name}'\n",
    "    \n",
    "    @classmethod\n",
    "    def set_discount_amount(cls, amount):\n",
    "        cls.discount_amount = amount\n",
    "        \n",
    "mark = Person('Mark', 'Darcy', 300)\n",
    "mary = Person('Mary', 'Shelley', 250)\n",
    "john = Person('John', 'Thornton', 350)\n",
    "\n",
    "print('Before set_discount_amount(0.04)')\n",
    "print(Person.discount_amount)\n",
    "print(mark.discount_amount)\n",
    "print(mary.discount_amount)\n",
    "\n",
    "Person.set_discount_amount(0.04)\n",
    "print('After set_discount_amount(0.04)')\n",
    "\n",
    "print(Person.discount_amount)\n",
    "print(mark.discount_amount)\n",
    "print(mary.discount_amount)"
   ]
  },
  {
   "cell_type": "markdown",
   "id": "74e8f367",
   "metadata": {},
   "source": [
    "When we run it you can see, that all of those are equal to 4%  because we ran this `set_discount_amount()` method which is a __class__ method which means that now\n",
    "we are working with the **class** instead of the **instance** and we're setting that\n",
    "class variable `discount_amount` equal to the amount that we passed in here which is\n",
    "4%. Really, this is the same thing as\n",
    "\n",
    "```Python\n",
    "Person.discount_amount = 0.04\n",
    "```\n",
    "\n",
    "You can run class methods from instances as well but that doesn't really make a lot of sense."
   ]
  },
  {
   "cell_type": "code",
   "execution_count": 134,
   "id": "d9ec54bf",
   "metadata": {},
   "outputs": [
    {
     "name": "stdout",
     "output_type": "stream",
     "text": [
      "Before set_discount_amount(0.04)\n",
      "0.02\n",
      "0.02\n",
      "0.02\n",
      "After set_discount_amount(0.04)\n",
      "0.04\n",
      "0.04\n",
      "0.04\n"
     ]
    }
   ],
   "source": [
    "class Person:\n",
    "    \n",
    "    discount_amount = 0.02\n",
    "    num_of_instances = 0\n",
    "    \n",
    "    def __init__(self, name, last_name, fee):\n",
    "        self.name = name\n",
    "        self.last_name = last_name\n",
    "        self.email = f'{name}.{last_name}@khpi.edu.ua'\n",
    "        self.fee = fee\n",
    "        \n",
    "        Person.num_of_instances += 1\n",
    "    \n",
    "    def get_discount(self):\n",
    "        self.fee = int(self.fee * (1 - Person.discount_amount))\n",
    "        \n",
    "    def fullname(self):\n",
    "        return f'{self.name} {self.last_name}'\n",
    "    \n",
    "    @classmethod\n",
    "    def set_discount_amount(cls, amount):\n",
    "        cls.discount_amount = amount\n",
    "        \n",
    "mark = Person('Mark', 'Darcy', 300)\n",
    "mary = Person('Mary', 'Shelley', 250)\n",
    "john = Person('John', 'Thornton', 350)\n",
    "\n",
    "print('Before set_discount_amount(0.04)')\n",
    "print(Person.discount_amount)\n",
    "print(mark.discount_amount)\n",
    "print(mary.discount_amount)\n",
    "\n",
    "# from instance\n",
    "mark.set_discount_amount(0.04)\n",
    "print('After set_discount_amount(0.04)')\n",
    "\n",
    "print(Person.discount_amount)\n",
    "print(mark.discount_amount)\n",
    "print(mary.discount_amount)"
   ]
  },
  {
   "cell_type": "markdown",
   "id": "557960d9",
   "metadata": {},
   "source": [
    " You can see that running that class method from the instance still changes that class variable and sets all of the class variable and both instance amounts to that 4 percent that we passed in"
   ]
  },
  {
   "cell_type": "markdown",
   "id": "d915581a",
   "metadata": {},
   "source": [
    "Sometimes class methods are used as alternative constructor, for example, to get data from a string, where data are separated by hyphens"
   ]
  },
  {
   "cell_type": "code",
   "execution_count": 136,
   "id": "bd0694ef",
   "metadata": {},
   "outputs": [],
   "source": [
    "str1 = \"James-Bond-350\"\n",
    "str2 = \"Peter-Parker-250\"\n",
    "\n",
    "name, last_name, fee = str1.split('-')\n",
    "\n",
    "james = Person(name, last_name, fee)\n",
    "peter = Person(name, last_name, fee)\n"
   ]
  },
  {
   "cell_type": "code",
   "execution_count": 137,
   "id": "9bb81636",
   "metadata": {},
   "outputs": [
    {
     "data": {
      "text/plain": [
       "{'name': 'James',\n",
       " 'last_name': 'Bond',\n",
       " 'email': 'James.Bond.@khpi.edu.ua',\n",
       " 'fee': '350'}"
      ]
     },
     "execution_count": 137,
     "metadata": {},
     "output_type": "execute_result"
    }
   ],
   "source": [
    "james.__dict__"
   ]
  },
  {
   "cell_type": "code",
   "execution_count": 139,
   "id": "725528f3",
   "metadata": {},
   "outputs": [
    {
     "data": {
      "text/plain": [
       "{'name': 'James',\n",
       " 'last_name': 'Bond',\n",
       " 'email': 'James.Bond.@khpi.edu.ua',\n",
       " 'fee': '350'}"
      ]
     },
     "execution_count": 139,
     "metadata": {},
     "output_type": "execute_result"
    }
   ],
   "source": [
    "peter.__dict__"
   ]
  },
  {
   "cell_type": "code",
   "execution_count": 140,
   "id": "8c321d0a",
   "metadata": {},
   "outputs": [
    {
     "data": {
      "text/plain": [
       "5"
      ]
     },
     "execution_count": 140,
     "metadata": {},
     "output_type": "execute_result"
    }
   ],
   "source": [
    "Person.num_of_instances"
   ]
  },
  {
   "cell_type": "code",
   "execution_count": 141,
   "id": "a3fe56ed",
   "metadata": {},
   "outputs": [
    {
     "data": {
      "text/plain": [
       "{'name': 'James',\n",
       " 'last_name': 'Bond',\n",
       " 'email': 'James.Bond.@khpi.edu.ua',\n",
       " 'fee': '350'}"
      ]
     },
     "execution_count": 141,
     "metadata": {},
     "output_type": "execute_result"
    }
   ],
   "source": [
    "class Person:\n",
    "    \n",
    "    discount_amount = 0.02\n",
    "    num_of_instances = 0\n",
    "    \n",
    "    def __init__(self, name, last_name, fee):\n",
    "        self.name = name\n",
    "        self.last_name = last_name\n",
    "        self.email = f'{name}.{last_name}@khpi.edu.ua'\n",
    "        self.fee = fee\n",
    "        \n",
    "        Person.num_of_instances += 1\n",
    "    \n",
    "    def get_discount(self):\n",
    "        self.fee = int(self.fee * (1 - Person.discount_amount))\n",
    "        \n",
    "    def fullname(self):\n",
    "        return f'{self.name} {self.last_name}'\n",
    "    \n",
    "    @classmethod\n",
    "    def set_discount_amount(cls, amount):\n",
    "        cls.discount_amount = amount\n",
    "        \n",
    "    @classmethod\n",
    "    def from_string(cls, person_str):\n",
    "        name, last_name, fee = person_str.split('-')\n",
    "        return cls(name, last_name, fee)\n",
    "    \n",
    "str1 = \"James-Bond-350\"\n",
    "str2 = \"Peter-Parker-250\"\n",
    "\n",
    "james = Person.from_string(str1)\n",
    "peter = Person.from_string(str2)\n",
    "\n",
    "james.__dict__"
   ]
  },
  {
   "cell_type": "code",
   "execution_count": 142,
   "id": "fa4916f4",
   "metadata": {},
   "outputs": [
    {
     "data": {
      "text/plain": [
       "2"
      ]
     },
     "execution_count": 142,
     "metadata": {},
     "output_type": "execute_result"
    }
   ],
   "source": [
    "Person.num_of_instances"
   ]
  },
  {
   "cell_type": "markdown",
   "id": "6140e29f",
   "metadata": {},
   "source": [
    "### Static method"
   ]
  },
  {
   "cell_type": "markdown",
   "id": "2ea1bf94",
   "metadata": {},
   "source": [
    "The reason to use staticmethod is if you have something that could be written as a standalone function (not part of any class), but you want to keep it within the class because it's somehow semantically related to the class. (For instance, it could be a function that doesn't require any information from the class, but whose behavior is specific to the class, so that subclasses might want to override it.) In many cases, it could make just as much sense to write something as a standalone function instead of a staticmethod.\n",
    "\n",
    "If you created a staticmethod within a class, you don't need to create an instance of the class before using the staticmethod.\n",
    "\n",
    "- An instance method takes `self` as the first parameter,a class method takes `cls` as the first parameter while a static method needs no specific parameters.\n",
    "- An instance method can access or modify the instance state, a class method can access or modify the class state while a static method can’t access or modify it."
   ]
  },
  {
   "cell_type": "code",
   "execution_count": 144,
   "id": "2b45b6e4",
   "metadata": {},
   "outputs": [],
   "source": [
    "@staticmethod\n",
    "def is_weekend(day):\n",
    "    if day.isoweekday() in [6,7]:\n",
    "        return True\n",
    "    else:\n",
    "        return False"
   ]
  },
  {
   "cell_type": "code",
   "execution_count": 102,
   "id": "055a5ad8",
   "metadata": {},
   "outputs": [
    {
     "data": {
      "text/plain": [
       "True"
      ]
     },
     "execution_count": 102,
     "metadata": {},
     "output_type": "execute_result"
    }
   ],
   "source": [
    "class Person:\n",
    "    \n",
    "    discount_amount = 0.02\n",
    "    num_of_instances = 0\n",
    "    \n",
    "    def __init__(self, name, last_name, fee):\n",
    "        self.name = name\n",
    "        self.last_name = last_name\n",
    "        self.email = f'{name}.{last_name}@khpi.edu.ua'\n",
    "        self.fee = fee\n",
    "        \n",
    "        Person.num_of_instances += 1\n",
    "    \n",
    "    def get_discount(self):\n",
    "        self.fee = int(self.fee * (1 - Person.discount_amount))\n",
    "        \n",
    "    def fullname(self):\n",
    "        return f'{self.name} {self.last_name}'\n",
    "    \n",
    "    @classmethod\n",
    "    def set_discount_amount(cls, amount):\n",
    "        cls.discount_amount = amount\n",
    "        \n",
    "    @classmethod\n",
    "    def from_string(cls, person_str):\n",
    "        name, last_name, fee = person_str.split('-')\n",
    "        return cls(name, last_name, fee)\n",
    "    \n",
    "    @staticmethod\n",
    "    def is_weekend(day):\n",
    "        if day.isoweekday() in [6,7]:\n",
    "            return True\n",
    "        else:\n",
    "            return False\n",
    "        \n",
    "    \n",
    "str2 = \"Peter-Parker-250\"\n",
    "james = Person.from_string(str2)\n",
    "        \n",
    "import datetime as dt\n",
    "\n",
    "# today = dt.datetime.today()\n",
    "# Person.is_weekend(today)\n",
    "\n",
    "some_date = dt.date(2023, 3, 25)\n",
    "Person.is_weekend(some_date)\n",
    "james.is_weekend(some_date)"
   ]
  },
  {
   "cell_type": "markdown",
   "id": "77750343",
   "metadata": {},
   "source": [
    "In fact we can skip In fact we `@staticmethod` and code will be valid, but it won't run for class instance"
   ]
  },
  {
   "cell_type": "code",
   "execution_count": 104,
   "id": "a08d47ae",
   "metadata": {},
   "outputs": [
    {
     "name": "stdout",
     "output_type": "stream",
     "text": [
      "True\n"
     ]
    },
    {
     "ename": "TypeError",
     "evalue": "is_weekend() takes 1 positional argument but 2 were given",
     "output_type": "error",
     "traceback": [
      "\u001b[1;31m---------------------------------------------------------------------------\u001b[0m",
      "\u001b[1;31mTypeError\u001b[0m                                 Traceback (most recent call last)",
      "Cell \u001b[1;32mIn[104], line 47\u001b[0m\n\u001b[0;32m     44\u001b[0m some_date \u001b[38;5;241m=\u001b[39m dt\u001b[38;5;241m.\u001b[39mdate(\u001b[38;5;241m2023\u001b[39m, \u001b[38;5;241m3\u001b[39m, \u001b[38;5;241m25\u001b[39m)\n\u001b[0;32m     45\u001b[0m \u001b[38;5;28mprint\u001b[39m(Person\u001b[38;5;241m.\u001b[39mis_weekend(some_date))\n\u001b[1;32m---> 47\u001b[0m \u001b[43mjames\u001b[49m\u001b[38;5;241;43m.\u001b[39;49m\u001b[43mis_weekend\u001b[49m\u001b[43m(\u001b[49m\u001b[43msome_date\u001b[49m\u001b[43m)\u001b[49m\n",
      "\u001b[1;31mTypeError\u001b[0m: is_weekend() takes 1 positional argument but 2 were given"
     ]
    }
   ],
   "source": [
    "class Person:\n",
    "    \n",
    "    discount_amount = 0.02\n",
    "    num_of_instances = 0\n",
    "    \n",
    "    def __init__(self, name, last_name, fee):\n",
    "        self.name = name\n",
    "        self.last_name = last_name\n",
    "        self.email = f'{name}.{last_name}@khpi.edu.ua'\n",
    "        self.fee = fee\n",
    "        \n",
    "        Person.num_of_instances += 1\n",
    "    \n",
    "    def get_discount(self):\n",
    "        self.fee = int(self.fee * (1 - Person.discount_amount))\n",
    "        \n",
    "    def fullname(self):\n",
    "        return f'{self.name} {self.last_name}'\n",
    "    \n",
    "    @classmethod\n",
    "    def set_discount_amount(cls, amount):\n",
    "        cls.discount_amount = amount\n",
    "        \n",
    "    @classmethod\n",
    "    def from_string(cls, person_str):\n",
    "        name, last_name, fee = person_str.split('-')\n",
    "        return cls(name, last_name, fee)\n",
    "    \n",
    "#     @staticmethod\n",
    "    def is_weekend(day):\n",
    "        if day.isoweekday() in [6,7]:\n",
    "            return True\n",
    "        else:\n",
    "            return False\n",
    "\n",
    "str2 = \"Peter-Parker-250\"\n",
    "james = Person.from_string(str2)\n",
    "\n",
    "import datetime as dt\n",
    "\n",
    "# today = dt.datetime.today()\n",
    "# Person.is_weekend(today)\n",
    "\n",
    "some_date = dt.date(2023, 3, 25)\n",
    "print(Person.is_weekend(some_date))\n",
    "\n",
    "james.is_weekend(some_date)"
   ]
  },
  {
   "cell_type": "code",
   "execution_count": null,
   "id": "79341c25",
   "metadata": {},
   "outputs": [],
   "source": []
  }
 ],
 "metadata": {
  "kernelspec": {
   "display_name": "Python 3",
   "language": "python",
   "name": "python3"
  },
  "language_info": {
   "codemirror_mode": {
    "name": "ipython",
    "version": 3
   },
   "file_extension": ".py",
   "mimetype": "text/x-python",
   "name": "python",
   "nbconvert_exporter": "python",
   "pygments_lexer": "ipython3",
   "version": "3.8.2"
  }
 },
 "nbformat": 4,
 "nbformat_minor": 5
}
