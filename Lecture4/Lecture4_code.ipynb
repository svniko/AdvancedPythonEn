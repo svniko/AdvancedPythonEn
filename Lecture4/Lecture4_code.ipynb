{
 "cells": [
  {
   "cell_type": "markdown",
   "id": "db9c0da2",
   "metadata": {},
   "source": [
    "# Lecture4"
   ]
  },
  {
   "cell_type": "code",
   "execution_count": 2,
   "id": "143bcd8e",
   "metadata": {},
   "outputs": [],
   "source": [
    "\"\"\"\n",
    "Linter example\n",
    "\"\"\"\n",
    "\n",
    "import math\n",
    "global_value = 0                   \n",
    "def Bad_Quality_Function(argument1):\n",
    "      a = [1,2,3]\n",
    "      a[10] = 10\n",
    "      DivideByZero = math.e/0\n",
    "      if a[10]==1:\n",
    "          Another_Bad_Quality_Function()\n",
    "      else:\n",
    "          return result\n",
    "      pass"
   ]
  },
  {
   "cell_type": "markdown",
   "id": "1fde3dea",
   "metadata": {},
   "source": [
    "## Classes and instances"
   ]
  },
  {
   "cell_type": "code",
   "execution_count": 3,
   "id": "97394b75",
   "metadata": {},
   "outputs": [],
   "source": [
    "class Person:\n",
    "    ..."
   ]
  },
  {
   "cell_type": "code",
   "execution_count": 4,
   "id": "6da43765",
   "metadata": {},
   "outputs": [],
   "source": [
    "mark = Person()\n",
    "john = Person()"
   ]
  },
  {
   "cell_type": "code",
   "execution_count": 5,
   "id": "9c1a5ad1",
   "metadata": {},
   "outputs": [
    {
     "name": "stdout",
     "output_type": "stream",
     "text": [
      "<__main__.Person object at 0x0475C958>\n",
      "<__main__.Person object at 0x0475C9A0>\n"
     ]
    }
   ],
   "source": [
    "print(mark)\n",
    "print(john)"
   ]
  },
  {
   "cell_type": "code",
   "execution_count": 6,
   "id": "834f78e9",
   "metadata": {},
   "outputs": [
    {
     "name": "stdout",
     "output_type": "stream",
     "text": [
      "Mark\n"
     ]
    }
   ],
   "source": [
    "mark.name = \"Mark\"\n",
    "mark.last_name = \"Darcy\"\n",
    "\n",
    "print(mark.name)"
   ]
  },
  {
   "cell_type": "code",
   "execution_count": 7,
   "id": "3d9c3b91",
   "metadata": {},
   "outputs": [
    {
     "data": {
      "text/plain": [
       "{'name': 'Mark', 'last_name': 'Darcy'}"
      ]
     },
     "execution_count": 7,
     "metadata": {},
     "output_type": "execute_result"
    }
   ],
   "source": [
    "mark.__dict__"
   ]
  },
  {
   "cell_type": "code",
   "execution_count": 8,
   "id": "b6b47415",
   "metadata": {},
   "outputs": [
    {
     "data": {
      "text/plain": [
       "{}"
      ]
     },
     "execution_count": 8,
     "metadata": {},
     "output_type": "execute_result"
    }
   ],
   "source": [
    "john.__dict__"
   ]
  },
  {
   "cell_type": "markdown",
   "id": "0ca0d0cb",
   "metadata": {},
   "source": [
    "### Monkey patching\n",
    "Monkey patching can only be done in dynamic languages, of which Python is a good\n",
    "example. Changing a method at runtime instead of updating the object definition is one\n",
    "example;similarly, adding attributes (whether methods or variables) at runtime is\n",
    "considered monkey patching.\n"
   ]
  },
  {
   "cell_type": "markdown",
   "id": "18d84826",
   "metadata": {},
   "source": [
    "## Instance variables"
   ]
  },
  {
   "cell_type": "code",
   "execution_count": 28,
   "id": "b1a1d0dd",
   "metadata": {},
   "outputs": [],
   "source": [
    "class Person:\n",
    "\n",
    "    def __init__(self, name, last_name):\n",
    "        self.name = name\n",
    "        self.last_name = last_name\n",
    "        self.email = f\"{name}.{last_name}@khpi.edu.ua\""
   ]
  },
  {
   "cell_type": "code",
   "execution_count": 29,
   "id": "cc5a065d",
   "metadata": {},
   "outputs": [],
   "source": [
    "mark = Person(\"Mark\", \"Darcy\")\n",
    "john = Person(\"John\", \"Thornton\")"
   ]
  },
  {
   "cell_type": "code",
   "execution_count": 30,
   "id": "ec4e8f06",
   "metadata": {},
   "outputs": [
    {
     "name": "stdout",
     "output_type": "stream",
     "text": [
      "Mark.Darcy@khpi.edu.ua\n",
      "John.Thornton@khpi.edu.ua\n"
     ]
    }
   ],
   "source": [
    "print(mark.email)\n",
    "print(john.email)"
   ]
  },
  {
   "cell_type": "code",
   "execution_count": 31,
   "id": "173ac4f3",
   "metadata": {},
   "outputs": [
    {
     "data": {
      "text/plain": [
       "{'name': 'Mark', 'last_name': 'Darcy', 'email': 'Mark.Darcy@khpi.edu.ua'}"
      ]
     },
     "execution_count": 31,
     "metadata": {},
     "output_type": "execute_result"
    }
   ],
   "source": [
    "mark.__dict__"
   ]
  },
  {
   "cell_type": "code",
   "execution_count": 32,
   "id": "7838adb1",
   "metadata": {},
   "outputs": [
    {
     "data": {
      "text/plain": [
       "{'name': 'John', 'last_name': 'Thornton', 'email': 'John.Thornton@khpi.edu.ua'}"
      ]
     },
     "execution_count": 32,
     "metadata": {},
     "output_type": "execute_result"
    }
   ],
   "source": [
    "john.__dict__"
   ]
  },
  {
   "cell_type": "code",
   "execution_count": 33,
   "id": "79d6f219",
   "metadata": {},
   "outputs": [
    {
     "name": "stdout",
     "output_type": "stream",
     "text": [
      "Mark Darcy\n",
      "John Thornton\n"
     ]
    }
   ],
   "source": [
    "print(f\"{mark.name} {mark.last_name}\")\n",
    "print(f\"{john.name} {john.last_name}\")"
   ]
  },
  {
   "cell_type": "code",
   "execution_count": 34,
   "id": "e46b9215",
   "metadata": {},
   "outputs": [
    {
     "name": "stdout",
     "output_type": "stream",
     "text": [
      "Mark Darcy\n",
      "John Thornton\n"
     ]
    }
   ],
   "source": [
    "class Person:\n",
    "    \n",
    "    def __init__(self, name, last_name):\n",
    "        self.name = name\n",
    "        self.last_name = last_name\n",
    "        self.email = f\"{name}.{last_name}@khpi.edu.ua\"\n",
    "\n",
    "mark = Person(\"Mark\", \"Darcy\")\n",
    "john = Person(\"John\", \"Thornton\")\n",
    "\n",
    "print(f\"{mark.name} {mark.last_name}\")\n",
    "print(f\"{john.name} {john.last_name}\")"
   ]
  },
  {
   "cell_type": "code",
   "execution_count": 20,
   "id": "ac3e1af3",
   "metadata": {},
   "outputs": [
    {
     "name": "stdout",
     "output_type": "stream",
     "text": [
      "Mark Darcy\n",
      "John Thornton\n"
     ]
    }
   ],
   "source": [
    "class Person:\n",
    "    \n",
    "    def __init__(self, name, last_name):\n",
    "        self.name = name\n",
    "        self.last_name = last_name\n",
    "        self.email = f\"{name}.{last_name}@khpi.edu.ua\"\n",
    "        \n",
    "    def fullname(self):\n",
    "        return f\"{self.name} {self.last_name}\"\n",
    "\n",
    "mark = Person(\"Mark\", \"Darcy\")\n",
    "john = Person(\"John\", \"Thornton\")    \n",
    "\n",
    "print(mark.fullname())\n",
    "print(john.fullname())"
   ]
  },
  {
   "cell_type": "markdown",
   "id": "73b2ea5b",
   "metadata": {},
   "source": [
    "## About self"
   ]
  },
  {
   "cell_type": "code",
   "execution_count": 35,
   "id": "cf09f284",
   "metadata": {},
   "outputs": [],
   "source": [
    "class Person:\n",
    "    \n",
    "    def __init__(self, name, last_name):\n",
    "        self.name = name\n",
    "        self.last_name = last_name\n",
    "        self.email = f\"{name}.{last_name}@khpi.edu.ua\"\n",
    "        \n",
    "    def fullname(): # self was deleted\n",
    "        return f\"{self.name} {self.last_name}\""
   ]
  },
  {
   "cell_type": "code",
   "execution_count": 36,
   "id": "0ccc4014",
   "metadata": {},
   "outputs": [],
   "source": [
    "mark = Person(\"Mark\", \"Darcy\")\n",
    "john = Person(\"John\", \"Thornton\")"
   ]
  },
  {
   "cell_type": "code",
   "execution_count": 37,
   "id": "0fa9e06f",
   "metadata": {},
   "outputs": [
    {
     "ename": "TypeError",
     "evalue": "fullname() takes 0 positional arguments but 1 was given",
     "output_type": "error",
     "traceback": [
      "\u001b[1;31m---------------------------------------------------------------------------\u001b[0m",
      "\u001b[1;31mTypeError\u001b[0m                                 Traceback (most recent call last)",
      "Cell \u001b[1;32mIn[37], line 1\u001b[0m\n\u001b[1;32m----> 1\u001b[0m \u001b[38;5;28mprint\u001b[39m(\u001b[43mmark\u001b[49m\u001b[38;5;241;43m.\u001b[39;49m\u001b[43mfullname\u001b[49m\u001b[43m(\u001b[49m\u001b[43m)\u001b[49m)\n",
      "\u001b[1;31mTypeError\u001b[0m: fullname() takes 0 positional arguments but 1 was given"
     ]
    }
   ],
   "source": [
    "print(mark.fullname())"
   ]
  },
  {
   "cell_type": "code",
   "execution_count": 39,
   "id": "c40c607d",
   "metadata": {},
   "outputs": [],
   "source": [
    "class Person:\n",
    "    \n",
    "    def __init__(self, name, last_name):\n",
    "        self.name = name\n",
    "        self.last_name = last_name\n",
    "        self.email = f\"{name}.{last_name}@khpi.edu.ua\"\n",
    "        \n",
    "    def fullname(self): # self was restored\n",
    "        return f\"{self.name} {self.last_name}\"\n",
    "    \n",
    "mark = Person(\"Mark\", \"Darcy\")\n",
    "john = Person(\"John\", \"Thornton\")"
   ]
  },
  {
   "cell_type": "code",
   "execution_count": 40,
   "id": "e9c56ee9",
   "metadata": {},
   "outputs": [
    {
     "name": "stdout",
     "output_type": "stream",
     "text": [
      "Mark Darcy\n"
     ]
    }
   ],
   "source": [
    "print(Person.fullname(mark))"
   ]
  },
  {
   "cell_type": "code",
   "execution_count": 41,
   "id": "c5779a56",
   "metadata": {},
   "outputs": [
    {
     "name": "stdout",
     "output_type": "stream",
     "text": [
      "John Thornton\n",
      "John Thornton\n"
     ]
    }
   ],
   "source": [
    "print(Person.fullname(john))\n",
    "print(john.fullname())"
   ]
  },
  {
   "cell_type": "code",
   "execution_count": null,
   "id": "05a1730e",
   "metadata": {
    "collapsed": true
   },
   "outputs": [],
   "source": []
  }
 ],
 "metadata": {
  "kernelspec": {
   "display_name": "Python 3",
   "language": "python",
   "name": "python3"
  },
  "language_info": {
   "codemirror_mode": {
    "name": "ipython",
    "version": 3
   },
   "file_extension": ".py",
   "mimetype": "text/x-python",
   "name": "python",
   "nbconvert_exporter": "python",
   "pygments_lexer": "ipython3",
   "version": "3.8.2"
  }
 },
 "nbformat": 4,
 "nbformat_minor": 5
}
