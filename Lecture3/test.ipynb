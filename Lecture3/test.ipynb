{
 "cells": [
  {
   "cell_type": "code",
   "execution_count": 1,
   "id": "55d9b1b2",
   "metadata": {},
   "outputs": [
    {
     "data": {
      "text/plain": [
       "15"
      ]
     },
     "execution_count": 1,
     "metadata": {},
     "output_type": "execute_result"
    }
   ],
   "source": [
    "# code after using black\n",
    "# black it's only about code formatting\n",
    "\n",
    "import math\n",
    "\n",
    "\n",
    "def Some_Function(arg1, arg2=3):\n",
    "    b = math.cos(math.pi) + 10\n",
    "    c = b * arg1\n",
    "    return c / arg2\n",
    "\n",
    "\n",
    "def Some_Function2(a1):\n",
    "    return a1 + a1 * 2\n",
    "\n",
    "\n",
    "Some_Function(4, 5)\n",
    "Some_Function2(5)"
   ]
  },
  {
   "cell_type": "code",
   "execution_count": null,
   "id": "e7a2a67b",
   "metadata": {},
   "outputs": [],
   "source": [
    "# code before using black\n",
    "import math\n",
    "def Some_Function(arg1, arg2 = 3):\n",
    "    b=math.cos(math.pi)+10\n",
    "    c=b*arg1\n",
    "    return c/arg2\n",
    "def Some_Function2(a1):\n",
    "    return a1+a1*2\n",
    "Some_Function(4,5)\n",
    "Some_Function2(5)"
   ]
  }
 ],
 "metadata": {
  "kernelspec": {
   "display_name": "Python 3",
   "language": "python",
   "name": "python3"
  },
  "language_info": {
   "codemirror_mode": {
    "name": "ipython",
    "version": 3
   },
   "file_extension": ".py",
   "mimetype": "text/x-python",
   "name": "python",
   "nbconvert_exporter": "python",
   "pygments_lexer": "ipython3",
   "version": "3.8.2"
  }
 },
 "nbformat": 4,
 "nbformat_minor": 5
}
