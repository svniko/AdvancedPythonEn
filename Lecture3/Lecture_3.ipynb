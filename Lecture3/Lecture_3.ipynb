{
 "cells": [
  {
   "cell_type": "markdown",
   "metadata": {},
   "source": [
    "# Lecture 3"
   ]
  },
  {
   "cell_type": "markdown",
   "metadata": {},
   "source": [
    "## Lambda, map(), filter(), reduce() and zip()"
   ]
  },
  {
   "cell_type": "markdown",
   "metadata": {},
   "source": [
    "\n",
    "### Lambda "
   ]
  },
  {
   "cell_type": "markdown",
   "metadata": {},
   "source": [
    "Sometimes, naming a function is not worth the trouble. For example when you’re sure the function will only be used once. For such cases, Python offers us anonymous functions, also called lambda functions.\n",
    "\n",
    "The following terms may be used interchangeably depending on the programming language type and culture:\n",
    "\n",
    "    Anonymous functions\n",
    "    Lambda functions\n",
    "    Lambda expressions\n",
    "    Lambda abstractions\n",
    "    Lambda form\n",
    "    Function literals\n"
   ]
  },
  {
   "cell_type": "markdown",
   "metadata": {},
   "source": [
    "Here's an example of lambda that takes in three parameters and adds the first two."
   ]
  },
  {
   "cell_type": "code",
   "execution_count": 18,
   "metadata": {},
   "outputs": [],
   "source": [
    "def adding(a, b):\n",
    "    return a + b"
   ]
  },
  {
   "cell_type": "code",
   "execution_count": 19,
   "metadata": {},
   "outputs": [
    {
     "data": {
      "text/plain": [
       "3"
      ]
     },
     "execution_count": 19,
     "metadata": {},
     "output_type": "execute_result"
    }
   ],
   "source": [
    "adding(1,2)"
   ]
  },
  {
   "cell_type": "code",
   "execution_count": 20,
   "metadata": {
    "scrolled": true
   },
   "outputs": [
    {
     "data": {
      "text/plain": [
       "<function __main__.<lambda>(a, b)>"
      ]
     },
     "execution_count": 20,
     "metadata": {},
     "output_type": "execute_result"
    }
   ],
   "source": [
    "lambda a, b: a + b"
   ]
  },
  {
   "cell_type": "markdown",
   "metadata": {},
   "source": [
    "In the example above, the expression is composed of:\n",
    "\n",
    "* The keyword: ```lambda```\n",
    "* A bound variables: ```a``` and ```b```\n",
    "* A body: ```a + b```\n"
   ]
  },
  {
   "cell_type": "markdown",
   "metadata": {},
   "source": [
    "We can apply the function above to an argument by surrounding the function and its argument with parentheses:"
   ]
  },
  {
   "cell_type": "code",
   "execution_count": 22,
   "metadata": {},
   "outputs": [
    {
     "data": {
      "text/plain": [
       "5"
      ]
     },
     "execution_count": 22,
     "metadata": {},
     "output_type": "execute_result"
    }
   ],
   "source": [
    "(lambda a, b: a + b)(2, 3)"
   ]
  },
  {
   "cell_type": "code",
   "execution_count": 23,
   "metadata": {},
   "outputs": [],
   "source": [
    "adding_l = lambda a, b: a + b"
   ]
  },
  {
   "cell_type": "code",
   "execution_count": 24,
   "metadata": {},
   "outputs": [
    {
     "data": {
      "text/plain": [
       "5"
      ]
     },
     "execution_count": 24,
     "metadata": {},
     "output_type": "execute_result"
    }
   ],
   "source": [
    "adding_l(2, 3)"
   ]
  },
  {
   "cell_type": "code",
   "execution_count": 25,
   "metadata": {},
   "outputs": [
    {
     "data": {
      "text/plain": [
       "<function __main__.<lambda>(a, b)>"
      ]
     },
     "execution_count": 25,
     "metadata": {},
     "output_type": "execute_result"
    }
   ],
   "source": [
    "lambda a, b: a + b"
   ]
  },
  {
   "cell_type": "markdown",
   "metadata": {},
   "source": [
    "Other than providing you with the feedback that Python is perfectly fine with this form, it doesn’t lead to any practical use. You could invoke the function in the Python interpreter"
   ]
  },
  {
   "cell_type": "code",
   "execution_count": 26,
   "metadata": {
    "scrolled": false
   },
   "outputs": [
    {
     "data": {
      "text/plain": [
       "5"
      ]
     },
     "execution_count": 26,
     "metadata": {},
     "output_type": "execute_result"
    }
   ],
   "source": [
    "_(2, 3)"
   ]
  },
  {
   "cell_type": "markdown",
   "metadata": {},
   "source": [
    "The example above is taking advantage of the interactive interpreter-only feature provided via the underscore (`_`).\n",
    "\n",
    "In the interactive interpreter, the single underscore (`_`) is bound to the last expression evaluated.\n",
    "\n",
    "In the example above, the _ points to the lambda function. "
   ]
  },
  {
   "cell_type": "code",
   "execution_count": 27,
   "metadata": {},
   "outputs": [
    {
     "data": {
      "text/plain": [
       "5"
      ]
     },
     "execution_count": 27,
     "metadata": {},
     "output_type": "execute_result"
    }
   ],
   "source": [
    "2 + 3"
   ]
  },
  {
   "cell_type": "code",
   "execution_count": 28,
   "metadata": {},
   "outputs": [
    {
     "data": {
      "text/plain": [
       "5"
      ]
     },
     "execution_count": 28,
     "metadata": {},
     "output_type": "execute_result"
    }
   ],
   "source": [
    "_"
   ]
  },
  {
   "cell_type": "markdown",
   "metadata": {},
   "source": [
    "You can pass the definition of a Python lambda expression to a higher-order function like `map()`, `filter()`, or `functools.reduce()`, or to a `key` function."
   ]
  },
  {
   "cell_type": "markdown",
   "metadata": {},
   "source": [
    "### map()"
   ]
  },
  {
   "cell_type": "markdown",
   "metadata": {},
   "source": [
    "It gets more interesting when you need to use a function as an argument. In such cases, the function is often used only once. As you know, `map` applies a function to all elements of an iterable object. We can use a lambda when calling map:"
   ]
  },
  {
   "cell_type": "markdown",
   "metadata": {},
   "source": [
    "Syntax\n",
    "```Python\n",
    "map(function, iterable, [iterable 2, iterable 3, ...])\n",
    "```"
   ]
  },
  {
   "cell_type": "markdown",
   "metadata": {},
   "source": [
    "Using built-in function"
   ]
  },
  {
   "cell_type": "code",
   "execution_count": 80,
   "metadata": {},
   "outputs": [
    {
     "data": {
      "text/plain": [
       "<map at 0x6f92400>"
      ]
     },
     "execution_count": 80,
     "metadata": {},
     "output_type": "execute_result"
    }
   ],
   "source": [
    "numbers = [1, 2, 3, 4]\n",
    "to_str = map(str, numbers)\n",
    "to_str"
   ]
  },
  {
   "cell_type": "code",
   "execution_count": 81,
   "metadata": {},
   "outputs": [
    {
     "data": {
      "text/plain": [
       "'1+2+3+4'"
      ]
     },
     "execution_count": 81,
     "metadata": {},
     "output_type": "execute_result"
    }
   ],
   "source": [
    "'+'.join(to_str)"
   ]
  },
  {
   "cell_type": "markdown",
   "metadata": {},
   "source": [
    "Using user-defined function"
   ]
  },
  {
   "cell_type": "code",
   "execution_count": 82,
   "metadata": {},
   "outputs": [],
   "source": [
    "def times_two(number):\n",
    "    return number*2"
   ]
  },
  {
   "cell_type": "code",
   "execution_count": 83,
   "metadata": {},
   "outputs": [
    {
     "data": {
      "text/plain": [
       "[2, 4, 6, 8]"
      ]
     },
     "execution_count": 83,
     "metadata": {},
     "output_type": "execute_result"
    }
   ],
   "source": [
    "times_two_list = list(map(times_two, numbers))\n",
    "times_two_list"
   ]
  },
  {
   "cell_type": "markdown",
   "metadata": {},
   "source": [
    "Using lambda function"
   ]
  },
  {
   "cell_type": "code",
   "execution_count": 29,
   "metadata": {},
   "outputs": [
    {
     "data": {
      "text/plain": [
       "[2, 4, 6, 8]"
      ]
     },
     "execution_count": 29,
     "metadata": {},
     "output_type": "execute_result"
    }
   ],
   "source": [
    "numbers = [1, 2, 3, 4]\n",
    "times_two = map(lambda x: x * 2, numbers)\n",
    "list(times_two)"
   ]
  },
  {
   "cell_type": "markdown",
   "metadata": {},
   "source": [
    "In fact, this is a pattern that you’ll see often. When you need to apply a relatively simple operation on each element of an iterable object, using `map()` in combination with a lambda function is concise and efficient."
   ]
  },
  {
   "cell_type": "markdown",
   "metadata": {},
   "source": [
    "### An example of mapping the `min` function between two lists.\n",
    "\n",
    "Imagine we have two lists of numbers, maybe prices from two different stores on exactly the same items. And we wanted to find the minimum that we would have to pay if we bought the cheaper item between the two stores. To do this, we could iterate through each list, comparing items and choosing the cheapest.<br> With `map`, we can do this comparison in a single statement.<br>\n",
    "But when we go to print out the map, we see that we get an odd reference value instead of a list of items that we're expecting. This is called **lazy evaluation**. In Python, the map function returns to you a map object. It doesn't actually try and run the function min on two items, until you look inside for a value.<br>This is an interesting design pattern of the language, and it's commonly used when dealing with big data. This allows us to have very efficient memory management, even though something might be computationally complex."
   ]
  },
  {
   "cell_type": "code",
   "execution_count": 86,
   "metadata": {},
   "outputs": [],
   "source": [
    "store1 = [10.00, 11.00, 12.34, 2.34]\n",
    "store2 = [9.00, 11.10, 12.32, 2.01]\n",
    "cheapest = map(min, store1, store2)\n"
   ]
  },
  {
   "cell_type": "markdown",
   "metadata": {},
   "source": [
    "Now let's iterate through the `map` object to see the values.\n",
    "Maps are iterable, just like lists and tuples, so we can use a `for` loop to look at all of the values in the `map`."
   ]
  },
  {
   "cell_type": "code",
   "execution_count": 87,
   "metadata": {
    "scrolled": true
   },
   "outputs": [
    {
     "name": "stdout",
     "output_type": "stream",
     "text": [
      "9.0\n",
      "11.0\n",
      "12.32\n",
      "2.01\n"
     ]
    }
   ],
   "source": [
    "for item in cheapest:\n",
    "    print(item)"
   ]
  },
  {
   "cell_type": "code",
   "execution_count": 91,
   "metadata": {},
   "outputs": [
    {
     "data": {
      "text/plain": [
       "[1, 8, 81, 1024]"
      ]
     },
     "execution_count": 91,
     "metadata": {},
     "output_type": "execute_result"
    }
   ],
   "source": [
    "pow_of_two_lists = map(lambda a, b: a**b, [1, 2, 3, 4], [2, 3, 4, 5])\n",
    "list(pow_of_two_lists)"
   ]
  },
  {
   "cell_type": "code",
   "execution_count": 92,
   "metadata": {},
   "outputs": [
    {
     "data": {
      "text/plain": [
       "[1, 8, 81]"
      ]
     },
     "execution_count": 92,
     "metadata": {},
     "output_type": "execute_result"
    }
   ],
   "source": [
    "pow_of_two_lists = map(lambda a, b: a**b, [1, 2, 3, 4], [2, 3, 4])\n",
    "list(pow_of_two_lists)"
   ]
  },
  {
   "cell_type": "markdown",
   "metadata": {},
   "source": [
    "## filter()\n",
    "\n",
    "The Python built-in `filter()` function can be used to create a new iterator from an existing iterable (like a list or dictionary) that will efficiently filter out elements using a function that we provide. An iterable is a Python object that can be “iterated over”, that is, it will return items in a sequence such that we can use it in a for loop.\n",
    "\n",
    "The basic syntax for the `filter()` function is:\n",
    "\n",
    "```Python\n",
    "filter(function, iterable)\n",
    "```"
   ]
  },
  {
   "cell_type": "code",
   "execution_count": 97,
   "metadata": {},
   "outputs": [
    {
     "data": {
      "text/plain": [
       "[0, 1, 2, 3, 4, 5, 6, 7, 8, 9]"
      ]
     },
     "execution_count": 97,
     "metadata": {},
     "output_type": "execute_result"
    }
   ],
   "source": [
    "list(range(100))[:10]"
   ]
  },
  {
   "cell_type": "code",
   "execution_count": 102,
   "metadata": {},
   "outputs": [
    {
     "data": {
      "text/plain": [
       "<filter at 0x6436790>"
      ]
     },
     "execution_count": 102,
     "metadata": {},
     "output_type": "execute_result"
    }
   ],
   "source": [
    "odd_list = filter(lambda x: x%2, range(100))\n",
    "odd_list"
   ]
  },
  {
   "cell_type": "code",
   "execution_count": 103,
   "metadata": {
    "scrolled": true
   },
   "outputs": [
    {
     "data": {
      "text/plain": [
       "[1, 3, 5, 7, 9, 11, 13, 15, 17, 19]"
      ]
     },
     "execution_count": 103,
     "metadata": {},
     "output_type": "execute_result"
    }
   ],
   "source": [
    "list(odd_list)[:10]"
   ]
  },
  {
   "cell_type": "code",
   "execution_count": 107,
   "metadata": {},
   "outputs": [],
   "source": [
    "def is_vowel(letter):\n",
    "    vowels = ['a', 'e', 'i', 'o', 'u', 'y']\n",
    "    if letter in vowels:\n",
    "        return True\n",
    "    return False"
   ]
  },
  {
   "cell_type": "code",
   "execution_count": 111,
   "metadata": {},
   "outputs": [
    {
     "data": {
      "text/plain": [
       "'eeaeieauiu'"
      ]
     },
     "execution_count": 111,
     "metadata": {},
     "output_type": "execute_result"
    }
   ],
   "source": [
    "sentence = \"The weather is beautiful\"\n",
    "\n",
    "only_vowel = filter(is_vowel, sentence)\n",
    "''.join(only_vowel)"
   ]
  },
  {
   "cell_type": "code",
   "execution_count": 120,
   "metadata": {},
   "outputs": [
    {
     "data": {
      "text/plain": [
       "'eeaeieauiu'"
      ]
     },
     "execution_count": 120,
     "metadata": {},
     "output_type": "execute_result"
    }
   ],
   "source": [
    "only_vowel = filter(lambda l: l in ['a', 'e', 'i', 'o', 'u', 'y'], sentence)\n",
    "''.join(only_vowel)"
   ]
  },
  {
   "cell_type": "markdown",
   "metadata": {},
   "source": [
    "## `reduce()` function\n",
    "`reduce()` is a function for performing some computation on a list and returning the result. It applies a rolling computation to sequential pairs of values in a list. "
   ]
  },
  {
   "cell_type": "markdown",
   "metadata": {},
   "source": [
    "Python’s reduce() operates on any iterable—not just lists—and performs the following steps:\n",
    "\n",
    "- **Apply** a function to the first two items in an iterable and generate a partial result.\n",
    "- **Use** that partial result, together with the third item in the iterable, to generate another partial result.\n",
    "- **Repeat** the process until the iterable is exhausted and then return a single cumulative value."
   ]
  },
  {
   "cell_type": "code",
   "execution_count": 121,
   "metadata": {},
   "outputs": [
    {
     "data": {
      "text/plain": [
       "15"
      ]
     },
     "execution_count": 121,
     "metadata": {},
     "output_type": "execute_result"
    }
   ],
   "source": [
    "from functools import reduce  # import reduce function\n",
    "y = [1, 2, 3, 4, 5]\n",
    "sum_ = reduce(lambda a,b: a + b, y)\n",
    "sum_"
   ]
  },
  {
   "cell_type": "markdown",
   "metadata": {},
   "source": [
    "```\n",
    "1 + 2 = 3\n",
    "3 + 3 = 6\n",
    "6 + 4 = 10\n",
    "10 + 5 = 15\n",
    "```"
   ]
  },
  {
   "cell_type": "markdown",
   "metadata": {},
   "source": [
    "As an another example, let’s calculate the product of all the numbers in a list."
   ]
  },
  {
   "cell_type": "code",
   "execution_count": 122,
   "metadata": {
    "scrolled": true
   },
   "outputs": [
    {
     "data": {
      "text/plain": [
       "120"
      ]
     },
     "execution_count": 122,
     "metadata": {},
     "output_type": "execute_result"
    }
   ],
   "source": [
    "reduce(lambda a,b: a*b , y)  # use reduce"
   ]
  },
  {
   "cell_type": "code",
   "execution_count": 35,
   "metadata": {
    "scrolled": false
   },
   "outputs": [
    {
     "data": {
      "text/plain": [
       "55"
      ]
     },
     "execution_count": 35,
     "metadata": {},
     "output_type": "execute_result"
    }
   ],
   "source": [
    "reduce(lambda a, b: a + b**2 , y)  # use reduce"
   ]
  },
  {
   "cell_type": "markdown",
   "metadata": {},
   "source": [
    "```\n",
    "1 + 2**2 = 5\n",
    "5 + 3**2 = 14\n",
    "14 + 4**2 = 30\n",
    "30 + 5**2 = 55\n",
    "```"
   ]
  },
  {
   "cell_type": "markdown",
   "metadata": {},
   "source": [
    "### Using lambda with key functions"
   ]
  },
  {
   "cell_type": "code",
   "execution_count": 136,
   "metadata": {},
   "outputs": [],
   "source": [
    "list_ = list(range(100))\n",
    "list_.sort?"
   ]
  },
  {
   "cell_type": "code",
   "execution_count": 45,
   "metadata": {},
   "outputs": [
    {
     "data": {
      "text/plain": [
       "[0, 1, 2, 3, 4, 5, 6, 7, 8, 9]"
      ]
     },
     "execution_count": 45,
     "metadata": {},
     "output_type": "execute_result"
    }
   ],
   "source": [
    "list_.sort()\n",
    "list_[:10]"
   ]
  },
  {
   "cell_type": "code",
   "execution_count": 46,
   "metadata": {},
   "outputs": [
    {
     "data": {
      "text/plain": [
       "[0, 1, 10, 11, 12, 13, 14, 15, 16, 17, 18, 19, 2, 20, 21, 22, 23, 24, 25, 26]"
      ]
     },
     "execution_count": 46,
     "metadata": {},
     "output_type": "execute_result"
    }
   ],
   "source": [
    "list_.sort(key=str)\n",
    "list_[:20]"
   ]
  },
  {
   "cell_type": "code",
   "execution_count": 137,
   "metadata": {},
   "outputs": [],
   "source": [
    "movies = [\n",
    "    (2019, 'Little Women', 8.2),\n",
    "    (2021, 'Dune', 9.0),\n",
    "    (2022, 'The Whale', 8.9),\n",
    "    (1972, 'The Godfather', 9.2),\n",
    "    (2008, 'The Dark Knight', 9.0)\n",
    "]"
   ]
  },
  {
   "cell_type": "code",
   "execution_count": 138,
   "metadata": {
    "scrolled": true
   },
   "outputs": [
    {
     "data": {
      "text/plain": [
       "[(1972, 'The Godfather', 9.2),\n",
       " (2008, 'The Dark Knight', 9.0),\n",
       " (2019, 'Little Women', 8.2),\n",
       " (2021, 'Dune', 9.0),\n",
       " (2022, 'The Whale', 8.9)]"
      ]
     },
     "execution_count": 138,
     "metadata": {},
     "output_type": "execute_result"
    }
   ],
   "source": [
    "movies.sort()\n",
    "movies"
   ]
  },
  {
   "cell_type": "markdown",
   "metadata": {},
   "source": [
    "The tuples get sorted by first comparing their elements at position 0, in this case the year. In case of a tie, the tuples are then sorted by comparing the second element, then the third, and so on.\n",
    "\n",
    "In our movie example, this means that the movies get sorted by comparing:\n",
    "\n",
    "    movie[0] - year or release, ascending\n",
    "    movie[1] - title, lexicographically (case sensitive), ascending\n",
    "    movie[2] - rating, ascending"
   ]
  },
  {
   "cell_type": "code",
   "execution_count": 140,
   "metadata": {
    "scrolled": true
   },
   "outputs": [
    {
     "data": {
      "text/plain": [
       "[(2019, 'Little Women', 8.2),\n",
       " (2022, 'The Whale', 8.9),\n",
       " (2021, 'Dune', 9.0),\n",
       " (2008, 'The Dark Knight', 9.0),\n",
       " (1972, 'The Godfather', 9.2)]"
      ]
     },
     "execution_count": 140,
     "metadata": {},
     "output_type": "execute_result"
    }
   ],
   "source": [
    "movies = sorted(movies, key=lambda movie: movie[2])\n",
    "movies"
   ]
  },
  {
   "cell_type": "markdown",
   "metadata": {},
   "source": [
    "### zip() function\n",
    "`zip()` function returns a list of tuples, where the i-th tuple contains the i-th element from each of the sequences. Let’s look at an example."
   ]
  },
  {
   "cell_type": "code",
   "execution_count": 125,
   "metadata": {},
   "outputs": [
    {
     "data": {
      "text/plain": [
       "<zip at 0x59c06a8>"
      ]
     },
     "execution_count": 125,
     "metadata": {},
     "output_type": "execute_result"
    }
   ],
   "source": [
    "a = [1, 2, 3, 4]   # create two lists\n",
    "b = [5, 6, 7, 8]\n",
    "c = zip(a, b)    # use the zip function\n",
    "c"
   ]
  },
  {
   "cell_type": "code",
   "execution_count": 126,
   "metadata": {},
   "outputs": [
    {
     "data": {
      "text/plain": [
       "[(1, 5), (2, 6), (3, 7), (4, 8)]"
      ]
     },
     "execution_count": 126,
     "metadata": {},
     "output_type": "execute_result"
    }
   ],
   "source": [
    "list(c)"
   ]
  },
  {
   "cell_type": "markdown",
   "metadata": {},
   "source": [
    "If the lists are of different lengths, the shorter one \"win\""
   ]
  },
  {
   "cell_type": "code",
   "execution_count": 127,
   "metadata": {},
   "outputs": [
    {
     "data": {
      "text/plain": [
       "[(1, 'a'), (2, 'b'), (3, 'c')]"
      ]
     },
     "execution_count": 127,
     "metadata": {},
     "output_type": "execute_result"
    }
   ],
   "source": [
    "d = [1, 2, 3, 4]\n",
    "e = ['a','b','c']\n",
    "list(zip(d, e))"
   ]
  },
  {
   "cell_type": "markdown",
   "metadata": {},
   "source": [
    "   Often `zip` function uses for creating dictionaries"
   ]
  },
  {
   "cell_type": "code",
   "execution_count": 128,
   "metadata": {},
   "outputs": [
    {
     "data": {
      "text/plain": [
       "{'James': '007', 'Peter': 'Spiderman', 'Bruce': 'Batman'}"
      ]
     },
     "execution_count": 128,
     "metadata": {},
     "output_type": "execute_result"
    }
   ],
   "source": [
    "names = ['James','Peter','Bruce']\n",
    "nickname = ['007','Spiderman','Batman']\n",
    "dict_ = dict(zip(names, nickname))\n",
    "dict_"
   ]
  },
  {
   "cell_type": "markdown",
   "metadata": {},
   "source": [
    "For example our earlier example with `filter()`"
   ]
  },
  {
   "cell_type": "markdown",
   "metadata": {},
   "source": [
    "Can be replaced by"
   ]
  },
  {
   "cell_type": "code",
   "execution_count": 129,
   "metadata": {
    "scrolled": false
   },
   "outputs": [
    {
     "data": {
      "text/plain": [
       "[1, 3, 5, 7, 9, 11, 13, 15, 17, 19]"
      ]
     },
     "execution_count": 129,
     "metadata": {},
     "output_type": "execute_result"
    }
   ],
   "source": [
    "list_1 = [x for x in range(100) if  x%2 ]\n",
    "list_1[:10]"
   ]
  },
  {
   "cell_type": "markdown",
   "metadata": {},
   "source": [
    "And result of `map()` function"
   ]
  },
  {
   "cell_type": "code",
   "execution_count": 130,
   "metadata": {},
   "outputs": [
    {
     "data": {
      "text/plain": [
       "[9.0, 11.0, 12.32, 2.01]"
      ]
     },
     "execution_count": 130,
     "metadata": {},
     "output_type": "execute_result"
    }
   ],
   "source": [
    "cheapest = map(min, store1, store2)\n",
    "list(cheapest) "
   ]
  },
  {
   "cell_type": "markdown",
   "metadata": {},
   "source": [
    "can be obtained by"
   ]
  },
  {
   "cell_type": "code",
   "execution_count": 42,
   "metadata": {},
   "outputs": [
    {
     "data": {
      "text/plain": [
       "[9.0, 11.0, 12.34, 2.01]"
      ]
     },
     "execution_count": 42,
     "metadata": {},
     "output_type": "execute_result"
    }
   ],
   "source": [
    "cheapest_2 = [min(x, y) for x, y in zip(store1, store2)]\n",
    "cheapest_2"
   ]
  },
  {
   "cell_type": "markdown",
   "metadata": {},
   "source": [
    "Note that the following statement gives completely different output."
   ]
  },
  {
   "cell_type": "code",
   "execution_count": 131,
   "metadata": {
    "scrolled": true
   },
   "outputs": [
    {
     "data": {
      "text/plain": [
       "[10.0, 11.0, 12.34, 2.34]"
      ]
     },
     "execution_count": 131,
     "metadata": {},
     "output_type": "execute_result"
    }
   ],
   "source": [
    "store1"
   ]
  },
  {
   "cell_type": "code",
   "execution_count": 132,
   "metadata": {},
   "outputs": [
    {
     "data": {
      "text/plain": [
       "[9.0, 11.1, 12.32, 2.01]"
      ]
     },
     "execution_count": 132,
     "metadata": {},
     "output_type": "execute_result"
    }
   ],
   "source": [
    "store2"
   ]
  },
  {
   "cell_type": "code",
   "execution_count": 133,
   "metadata": {},
   "outputs": [
    {
     "data": {
      "text/plain": [
       "[9.0,\n",
       " 10.0,\n",
       " 10.0,\n",
       " 2.01,\n",
       " 9.0,\n",
       " 11.0,\n",
       " 11.0,\n",
       " 2.01,\n",
       " 9.0,\n",
       " 11.1,\n",
       " 12.32,\n",
       " 2.01,\n",
       " 2.34,\n",
       " 2.34,\n",
       " 2.34,\n",
       " 2.01]"
      ]
     },
     "execution_count": 133,
     "metadata": {},
     "output_type": "execute_result"
    }
   ],
   "source": [
    "cheapest_1 = [min(x,y) for x in store1 for y in store2]\n",
    "cheapest_1"
   ]
  },
  {
   "cell_type": "markdown",
   "metadata": {},
   "source": [
    "That is each element of the vector `x` is compared to each of the elements of the vector `y`."
   ]
  },
  {
   "cell_type": "markdown",
   "metadata": {},
   "source": [
    "# Code formatting"
   ]
  },
  {
   "cell_type": "markdown",
   "metadata": {},
   "source": [
    "Code formatting is applying a set of rules to source code to give it a certain appearance. Although unimportant to the\n",
    "computer parsing your program, code\n",
    "formatting is vital for readability, which is\n",
    "necessary for maintaining your code. If your\n",
    "code is difficult for humans (whether it’s you\n",
    "or a co-worker) to understand, it will be\n",
    "hard to fix bugs or add new features.\n",
    "Formatting code isn’t a mere cosmetic issue.\n",
    "Python’s readability is a critical reason for\n",
    "the language’s popularity.\n"
   ]
  },
  {
   "cell_type": "markdown",
   "metadata": {},
   "source": [
    "Style Guides and PEP 8\n",
    "An easy way to write readable code is to follow a style guide, a\n",
    "document that outlines a set of formatting rules a software\n",
    "project should follow. The Python Enhancement Proposal 8\n",
    "(PEP 8) is one such style guide written by the Python core\n",
    "development team. But some software companies have\n",
    "established their own style guides as well.\n",
    "\n",
    "You can find **PEP 8** online at\n",
    "https://www.python.org/dev/peps/pep-0008/. Many Python\n",
    "programmers view PEP 8 as an authoritative set of rules,\n",
    "although the PEP 8 creators argue otherwise. The “A Foolish\n",
    "Consistency Is the Hobgoblin of Little Minds” section of the\n",
    "guide reminds the reader that maintaining consistency and\n",
    "readability within a project, rather than adhering to any\n",
    "individual formatting rule, is the prime reason for enforcing\n",
    "style guides.\n",
    "\n",
    "PEP 8 even includes the following advice: “Know when to be\n",
    "inconsistent—sometimes style guide recommendations just\n",
    "aren’t applicable. When in doubt, use your best judgment.”\n",
    "Whether you follow all of it, some of it, or none of it, it’s\n",
    "worthwhile to read the PEP 8 document.\n",
    "\n"
   ]
  },
  {
   "cell_type": "markdown",
   "metadata": {},
   "source": [
    "```Powershell\n",
    "pip install black\n",
    "```"
   ]
  },
  {
   "cell_type": "markdown",
   "metadata": {},
   "source": [
    "If you want to format Jupyter Notebooks, install with \n",
    "```Powershell\n",
    "pip install \"black[jupyter]\"\n",
    "```"
   ]
  }
 ],
 "metadata": {
  "kernelspec": {
   "display_name": "Python 3",
   "language": "python",
   "name": "python3"
  },
  "language_info": {
   "codemirror_mode": {
    "name": "ipython",
    "version": 3
   },
   "file_extension": ".py",
   "mimetype": "text/x-python",
   "name": "python",
   "nbconvert_exporter": "python",
   "pygments_lexer": "ipython3",
   "version": "3.8.2"
  }
 },
 "nbformat": 4,
 "nbformat_minor": 4
}
