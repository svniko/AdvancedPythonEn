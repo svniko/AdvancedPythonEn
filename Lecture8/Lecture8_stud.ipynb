{
 "cells": [
  {
   "cell_type": "markdown",
   "id": "b432312b",
   "metadata": {},
   "source": [
    "# Python decorators"
   ]
  },
  {
   "cell_type": "markdown",
   "id": "266a1c98",
   "metadata": {},
   "source": [
    "Decorators are a very powerful and useful tool in Python since it allows programmers to modify the behaviour of a function or class. \n",
    "\n",
    "Decorators allow us to wrap another function in order to extend the behaviour of the wrapped function, without permanently modifying it. But before diving deep into decorators let us understand some concepts that will come in handy in learning the decorators.\n",
    "\n",
    "## First Class Objects\n",
    "In Python, functions are *first class objects* which means that functions in Python can be used or passed as arguments.\n",
    "### Properties of first class functions:\n",
    "A function is an instance of the Object type.\n",
    "- You can store the function in a variable.\n",
    "- You can pass the function as a parameter to another function.\n",
    "- You can return the function from a function.\n",
    "- You can store them in data structures such as hash tables, lists, …\n"
   ]
  },
  {
   "cell_type": "code",
   "execution_count": 23,
   "id": "85c33102",
   "metadata": {},
   "outputs": [],
   "source": [
    "def my_func():\n",
    "    return \"Hello!\""
   ]
  },
  {
   "cell_type": "code",
   "execution_count": 26,
   "id": "f489c0c7",
   "metadata": {},
   "outputs": [
    {
     "data": {
      "text/plain": [
       "[function, object]"
      ]
     },
     "execution_count": 26,
     "metadata": {},
     "output_type": "execute_result"
    }
   ],
   "source": [
    "my_func.__class__.mro()"
   ]
  },
  {
   "cell_type": "code",
   "execution_count": 27,
   "id": "56749037",
   "metadata": {},
   "outputs": [],
   "source": [
    "my_list = [1, 2, my_func]"
   ]
  },
  {
   "cell_type": "code",
   "execution_count": 30,
   "id": "ae821d95",
   "metadata": {
    "scrolled": true
   },
   "outputs": [
    {
     "data": {
      "text/plain": [
       "<function __main__.my_func()>"
      ]
     },
     "execution_count": 30,
     "metadata": {},
     "output_type": "execute_result"
    }
   ],
   "source": [
    "my_list[2]"
   ]
  },
  {
   "cell_type": "code",
   "execution_count": 24,
   "id": "27fc9d12",
   "metadata": {},
   "outputs": [
    {
     "data": {
      "text/plain": [
       "'Hello!'"
      ]
     },
     "execution_count": 24,
     "metadata": {},
     "output_type": "execute_result"
    }
   ],
   "source": [
    "my_func()"
   ]
  },
  {
   "cell_type": "code",
   "execution_count": null,
   "id": "b304c26c",
   "metadata": {},
   "outputs": [],
   "source": [
    "my_func[2]()"
   ]
  },
  {
   "cell_type": "markdown",
   "id": "19d9a724",
   "metadata": {},
   "source": [
    "### Treating the functions as objects. "
   ]
  },
  {
   "cell_type": "code",
   "execution_count": 21,
   "id": "ba3f19b1",
   "metadata": {},
   "outputs": [
    {
     "data": {
      "text/plain": [
       "function"
      ]
     },
     "execution_count": 21,
     "metadata": {},
     "output_type": "execute_result"
    }
   ],
   "source": [
    "func = my_func\n",
    "type(func)"
   ]
  },
  {
   "cell_type": "markdown",
   "id": "31c15d73",
   "metadata": {},
   "source": [
    "In the above example, we have assigned the function `my_func` to a variable. This will not call the function instead it takes the function object referenced by a `my_func` and creates a second name pointing to it, `func`"
   ]
  },
  {
   "cell_type": "code",
   "execution_count": 22,
   "id": "e71d6c74",
   "metadata": {},
   "outputs": [
    {
     "data": {
      "text/plain": [
       "'Hello!'"
      ]
     },
     "execution_count": 22,
     "metadata": {},
     "output_type": "execute_result"
    }
   ],
   "source": [
    "func()"
   ]
  },
  {
   "cell_type": "markdown",
   "id": "0e39525a",
   "metadata": {},
   "source": [
    "### Passing the function as an argument "
   ]
  },
  {
   "cell_type": "code",
   "execution_count": 55,
   "id": "b5a0f3e1",
   "metadata": {},
   "outputs": [],
   "source": [
    "def shout(text):\n",
    "    return text.upper()\n",
    " \n",
    "def whisper(text):\n",
    "    return text.lower()\n",
    " \n",
    "def greet(func):\n",
    "    # storing the function in a variable\n",
    "    greeting = func(\"Hello!\")\n",
    "    print(greeting)\n",
    "#     return greeting\n"
   ]
  },
  {
   "cell_type": "code",
   "execution_count": 56,
   "id": "8b191888",
   "metadata": {},
   "outputs": [
    {
     "name": "stdout",
     "output_type": "stream",
     "text": [
      "HELLO!\n"
     ]
    }
   ],
   "source": [
    "greet(shout)"
   ]
  },
  {
   "cell_type": "code",
   "execution_count": 57,
   "id": "140eb0d9",
   "metadata": {},
   "outputs": [
    {
     "name": "stdout",
     "output_type": "stream",
     "text": [
      "hello!\n"
     ]
    }
   ],
   "source": [
    "greet(whisper)"
   ]
  },
  {
   "cell_type": "markdown",
   "id": "dd012bd1",
   "metadata": {},
   "source": [
    "In the above example, the greet function takes another function as a parameter (shout and whisper in this case). The function passed as an argument is then called inside the function greet."
   ]
  },
  {
   "cell_type": "markdown",
   "id": "1ca61258",
   "metadata": {},
   "source": [
    "### Returning functions from another function"
   ]
  },
  {
   "cell_type": "code",
   "execution_count": 48,
   "id": "f5ac9457",
   "metadata": {},
   "outputs": [
    {
     "name": "stdout",
     "output_type": "stream",
     "text": [
      "Hello\n"
     ]
    }
   ],
   "source": [
    "def outer_function():\n",
    "    message = \"Hello\"\n",
    "    \n",
    "    def inner_function():\n",
    "        print(message)\n",
    "    return inner_function()\n",
    "\n",
    "outer_function()\n",
    "\n"
   ]
  },
  {
   "cell_type": "markdown",
   "id": "96ba8950",
   "metadata": {},
   "source": [
    "So, we have an outer function here that doesn't take any parameters. And within our outer function,\n",
    "we have a local variable called \"message\". Ah, then we are creating an inner function\n",
    "within the outer function.\n",
    "\n",
    "Now, the \"message\" variable wasn't created within the inner function, but the inner function does have access to it, and this is what we call a free variable.\n",
    "\n",
    "Now, our inner function prints this message. \n",
    "\n",
    "Then we are executing our inner function\n",
    "and returning the result. "
   ]
  },
  {
   "cell_type": "markdown",
   "id": "d38cee52",
   "metadata": {},
   "source": [
    "Instead of executing the inner function and return it, let's return a function without executing it. We cfn do it by deleting parenthesis. Now when we execute this outer function we return the inner function waiting to be executed"
   ]
  },
  {
   "cell_type": "code",
   "execution_count": 58,
   "id": "b83884a3",
   "metadata": {},
   "outputs": [
    {
     "data": {
      "text/plain": [
       "<function __main__.outer_function.<locals>.inner_function()>"
      ]
     },
     "execution_count": 58,
     "metadata": {},
     "output_type": "execute_result"
    }
   ],
   "source": [
    "def outer_function():\n",
    "    message = \"Hello\"\n",
    "    \n",
    "    def inner_function():\n",
    "        print(message)\n",
    "    return inner_function\n",
    "\n",
    "outer_function()"
   ]
  },
  {
   "cell_type": "code",
   "execution_count": 64,
   "id": "c580464d",
   "metadata": {},
   "outputs": [],
   "source": [
    "my_func = outer_function()"
   ]
  },
  {
   "cell_type": "code",
   "execution_count": 66,
   "id": "e724c240",
   "metadata": {
    "scrolled": false
   },
   "outputs": [
    {
     "name": "stdout",
     "output_type": "stream",
     "text": [
      "Hello\n",
      "Hello\n"
     ]
    }
   ],
   "source": [
    "my_func()\n",
    "my_func()"
   ]
  },
  {
   "cell_type": "markdown",
   "id": "2478f9c0",
   "metadata": {},
   "source": [
    "A closure in Python is a function that retains the state of the enclosing lexical environment at the time of its definition. This means that the function can remember and access variables in the enclosing lexical environment, even after it has finished executing.\n",
    "\n",
    "When you define a function inside another function in Python, the inner function has access to the variables in the outer function's scope, even after the outer function has completed execution. This is possible because the inner function creates a closure, which is an object that contains a reference to the enclosing lexical environment, including any variables that were in scope at the time the closure was created.\n",
    "\n",
    "Closures are useful in many situations where you want to create a function that has some internal state or remembers something about its past behavior. For example, you might use a closure to implement a counter that keeps track of how many times a function has been called, or to create a function that remembers the last value that was passed to it."
   ]
  },
  {
   "cell_type": "markdown",
   "id": "380b0096",
   "metadata": {},
   "source": [
    "## Outer finction with an argument"
   ]
  },
  {
   "cell_type": "code",
   "execution_count": 73,
   "id": "0622fff0",
   "metadata": {},
   "outputs": [],
   "source": [
    "# previous example\n",
    "def outer_function():\n",
    "    message = \"Hello\"\n",
    "    \n",
    "    def inner_function():\n",
    "        print(message)\n",
    "    return inner_function\n",
    "\n",
    "my_func = outer_function()"
   ]
  },
  {
   "cell_type": "code",
   "execution_count": 74,
   "id": "ab90cdce",
   "metadata": {},
   "outputs": [],
   "source": [
    "def outer_function(msg):\n",
    "    message = msg\n",
    "    \n",
    "    def inner_function():\n",
    "        print(message)\n",
    "    return inner_function\n",
    "\n",
    "hi_func = outer_function(\"Hi\")\n",
    "buy_func = outer_function(\"Bye\")"
   ]
  },
  {
   "cell_type": "code",
   "execution_count": 75,
   "id": "6c2bd459",
   "metadata": {},
   "outputs": [
    {
     "name": "stdout",
     "output_type": "stream",
     "text": [
      "Hi\n",
      "Bye\n"
     ]
    }
   ],
   "source": [
    "hi_func()\n",
    "buy_func()"
   ]
  },
  {
   "cell_type": "markdown",
   "id": "700df3fb",
   "metadata": {},
   "source": [
    "We can directly pass msg from outer_function param to inner_function"
   ]
  },
  {
   "cell_type": "code",
   "execution_count": 76,
   "id": "6c6a5e09",
   "metadata": {},
   "outputs": [],
   "source": [
    "def outer_function(msg):\n",
    " \n",
    "    def inner_function():\n",
    "        print(msg)\n",
    "    return inner_function\n",
    "\n",
    "hi_func = outer_function(\"Hi\")\n",
    "buy_func = outer_function(\"Bye\")"
   ]
  },
  {
   "cell_type": "code",
   "execution_count": 77,
   "id": "c94b6583",
   "metadata": {},
   "outputs": [
    {
     "name": "stdout",
     "output_type": "stream",
     "text": [
      "Hi\n",
      "Bye\n"
     ]
    }
   ],
   "source": [
    "hi_func = outer_function(\"Hi\")\n",
    "buy_func = outer_function(\"Bye\")\n",
    "hi_func()\n",
    "buy_func()"
   ]
  },
  {
   "cell_type": "markdown",
   "id": "1bb5c029",
   "metadata": {},
   "source": [
    "Les't move on to decorators\n",
    "\n",
    "Decorator is a function, that takes another function as an argument, do some functionality and return some function"
   ]
  },
  {
   "cell_type": "markdown",
   "id": "06ad8bf7",
   "metadata": {},
   "source": [
    "Let's change a bit our original code"
   ]
  },
  {
   "cell_type": "code",
   "execution_count": 81,
   "id": "084b3862",
   "metadata": {},
   "outputs": [
    {
     "name": "stdout",
     "output_type": "stream",
     "text": [
      "display function ran\n"
     ]
    }
   ],
   "source": [
    "def decorator_function(original_function):\n",
    "    def wrapper_function():\n",
    "        return original_function()\n",
    "    return wrapper_function\n",
    "\n",
    "def display():\n",
    "    print('display function ran')\n",
    "\n",
    "decorated_display = decorator_function(display)\n",
    "decorated_display()"
   ]
  },
  {
   "cell_type": "markdown",
   "id": "eaf4bfc3",
   "metadata": {},
   "source": [
    "We can add functionality to original function"
   ]
  },
  {
   "cell_type": "code",
   "execution_count": 82,
   "id": "6ef25b39",
   "metadata": {},
   "outputs": [
    {
     "name": "stdout",
     "output_type": "stream",
     "text": [
      "display will be executed\n",
      "display function ran\n"
     ]
    }
   ],
   "source": [
    "def decorator_function(original_function):\n",
    "    def wrapper_function():\n",
    "        print(f'{original_function.__name__} will be executed')\n",
    "        return original_function()\n",
    "    return wrapper_function\n",
    "\n",
    "def display():\n",
    "    print('display function ran')\n",
    "\n",
    "decorated_display = decorator_function(display)\n",
    "decorated_display()"
   ]
  },
  {
   "cell_type": "markdown",
   "id": "3bdf63f4",
   "metadata": {},
   "source": [
    "More usual way to create decorators"
   ]
  },
  {
   "cell_type": "code",
   "execution_count": 90,
   "id": "7184d0c2",
   "metadata": {},
   "outputs": [
    {
     "name": "stdout",
     "output_type": "stream",
     "text": [
      "display will be executed\n",
      "display function ran\n"
     ]
    }
   ],
   "source": [
    "def decorator_function(original_function):\n",
    "    def wrapper_function():\n",
    "        print(f'{original_function.__name__} will be executed')\n",
    "        return original_function()\n",
    "    return wrapper_function\n",
    "\n",
    "@decorator_function\n",
    "def display():\n",
    "    print('display function ran')\n",
    "\n",
    "# the same thing\n",
    "# display = decorator_function(display)\n",
    "display()\n"
   ]
  },
  {
   "cell_type": "code",
   "execution_count": 91,
   "id": "96e21a08",
   "metadata": {},
   "outputs": [
    {
     "name": "stdout",
     "output_type": "stream",
     "text": [
      "display will be executed\n",
      "display function ran\n"
     ]
    }
   ],
   "source": [
    "display()"
   ]
  },
  {
   "cell_type": "markdown",
   "id": "8db7f0c6",
   "metadata": {},
   "source": [
    "What if we want to decorate another function"
   ]
  },
  {
   "cell_type": "code",
   "execution_count": 97,
   "id": "bb43d3ac",
   "metadata": {},
   "outputs": [],
   "source": [
    "def display_info(name, position):\n",
    "    print(f'display_info ran with arguments ({name}, {position})')"
   ]
  },
  {
   "cell_type": "code",
   "execution_count": 98,
   "id": "bf4797cd",
   "metadata": {},
   "outputs": [
    {
     "name": "stdout",
     "output_type": "stream",
     "text": [
      "display_info ran with arguments(John, Teacher)\n"
     ]
    }
   ],
   "source": [
    "display_info(\"John\", \"Teacher\")"
   ]
  },
  {
   "cell_type": "code",
   "execution_count": 101,
   "id": "29324dbe",
   "metadata": {},
   "outputs": [
    {
     "ename": "TypeError",
     "evalue": "wrapper_function() takes 0 positional arguments but 2 were given",
     "output_type": "error",
     "traceback": [
      "\u001b[1;31m---------------------------------------------------------------------------\u001b[0m",
      "\u001b[1;31mTypeError\u001b[0m                                 Traceback (most recent call last)",
      "Cell \u001b[1;32mIn[101], line 5\u001b[0m\n\u001b[0;32m      1\u001b[0m \u001b[38;5;129m@decorator_function\u001b[39m\n\u001b[0;32m      2\u001b[0m \u001b[38;5;28;01mdef\u001b[39;00m \u001b[38;5;21mdisplay_info\u001b[39m(name, position):\n\u001b[0;32m      3\u001b[0m     \u001b[38;5;28mprint\u001b[39m(\u001b[38;5;124mf\u001b[39m\u001b[38;5;124m'\u001b[39m\u001b[38;5;124mdisplay_info ran with arguments (\u001b[39m\u001b[38;5;132;01m{\u001b[39;00mname\u001b[38;5;132;01m}\u001b[39;00m\u001b[38;5;124m, \u001b[39m\u001b[38;5;132;01m{\u001b[39;00mposition\u001b[38;5;132;01m}\u001b[39;00m\u001b[38;5;124m)\u001b[39m\u001b[38;5;124m'\u001b[39m)\n\u001b[1;32m----> 5\u001b[0m \u001b[43mdisplay_info\u001b[49m\u001b[43m(\u001b[49m\u001b[38;5;124;43m\"\u001b[39;49m\u001b[38;5;124;43mJohn\u001b[39;49m\u001b[38;5;124;43m\"\u001b[39;49m\u001b[43m,\u001b[49m\u001b[43m \u001b[49m\u001b[38;5;124;43m\"\u001b[39;49m\u001b[38;5;124;43mTeacher\u001b[39;49m\u001b[38;5;124;43m\"\u001b[39;49m\u001b[43m)\u001b[49m\n",
      "\u001b[1;31mTypeError\u001b[0m: wrapper_function() takes 0 positional arguments but 2 were given"
     ]
    }
   ],
   "source": [
    "@decorator_function\n",
    "def display_info(name, position):\n",
    "    print(f'display_info ran with arguments ({name}, {position})')\n",
    "    \n",
    "display_info(\"John\", \"Teacher\")"
   ]
  },
  {
   "cell_type": "markdown",
   "id": "9abb8699",
   "metadata": {},
   "source": [
    "Here we can discuss the consept of `*args` and `**kwargs`"
   ]
  },
  {
   "cell_type": "markdown",
   "id": "19a51f51",
   "metadata": {},
   "source": [
    "In Python, `*args` is a special syntax that allows a function to accept an arbitrary number of positional arguments as a tuple. The * symbol is used to tell Python to pack all the positional arguments into a tuple. This is useful when you don't know how many arguments will be passed to a function, or when you want to pass a variable number of arguments to a function.\n",
    "\n",
    "Here's an example of how to use `*args`:"
   ]
  },
  {
   "cell_type": "code",
   "execution_count": 102,
   "id": "9da2f2d9",
   "metadata": {},
   "outputs": [
    {
     "name": "stdout",
     "output_type": "stream",
     "text": [
      "apples\n",
      "bananas\n"
     ]
    }
   ],
   "source": [
    "def my_function(*args):\n",
    "    for arg in args:\n",
    "        print(arg)\n",
    "        \n",
    "my_function('apples', 'bananas')"
   ]
  },
  {
   "cell_type": "code",
   "execution_count": 103,
   "id": "6ffe5211",
   "metadata": {},
   "outputs": [
    {
     "name": "stdout",
     "output_type": "stream",
     "text": [
      "apples\n"
     ]
    }
   ],
   "source": [
    "my_function('apples')"
   ]
  },
  {
   "cell_type": "code",
   "execution_count": 104,
   "id": "cf3b38c7",
   "metadata": {},
   "outputs": [
    {
     "name": "stdout",
     "output_type": "stream",
     "text": [
      "apples\n",
      "bananas\n",
      "grapes\n",
      "pears\n"
     ]
    }
   ],
   "source": [
    "my_function('apples', 'bananas', 'grapes', 'pears')"
   ]
  },
  {
   "cell_type": "markdown",
   "id": "b9dbee32",
   "metadata": {},
   "source": [
    "In Python, `**kwargs` is a special syntax that allows a function to accept an arbitrary number of keyword arguments as a dictionary. The `**` symbol is used to tell Python to pack all the keyword arguments into a dictionary. This is useful when you don't know how many keyword arguments will be passed to a function, or when you want to pass a variable number of keyword arguments to a function.\n",
    "\n",
    "Here's an example of how to use `**kwargs`:"
   ]
  },
  {
   "cell_type": "code",
   "execution_count": 105,
   "id": "60283239",
   "metadata": {},
   "outputs": [],
   "source": [
    "def my_function(**kwargs):\n",
    "    for key, value in kwargs.items():\n",
    "        print(f\"{key}: {value}\")"
   ]
  },
  {
   "cell_type": "code",
   "execution_count": 107,
   "id": "18546830",
   "metadata": {},
   "outputs": [
    {
     "name": "stdout",
     "output_type": "stream",
     "text": [
      "name: Alice\n",
      "age: 30\n",
      "city: New York\n"
     ]
    }
   ],
   "source": [
    "my_function(name=\"Alice\", age=30, city=\"New York\")"
   ]
  },
  {
   "cell_type": "code",
   "execution_count": 108,
   "id": "4621d11c",
   "metadata": {},
   "outputs": [
    {
     "name": "stdout",
     "output_type": "stream",
     "text": [
      "name: Alice\n",
      "age: 30\n"
     ]
    }
   ],
   "source": [
    "my_function(name=\"Alice\", age=30)"
   ]
  },
  {
   "cell_type": "code",
   "execution_count": 111,
   "id": "4270583f",
   "metadata": {},
   "outputs": [],
   "source": [
    "def my_function(**kwargs):\n",
    "    for i in kwargs.values():\n",
    "        print(i)"
   ]
  },
  {
   "cell_type": "code",
   "execution_count": 112,
   "id": "d6d84d0b",
   "metadata": {},
   "outputs": [
    {
     "name": "stdout",
     "output_type": "stream",
     "text": [
      "Alice\n",
      "30\n"
     ]
    }
   ],
   "source": [
    "my_function(name=\"Alice\", age=30)"
   ]
  },
  {
   "cell_type": "markdown",
   "id": "96b36922",
   "metadata": {},
   "source": [
    "Let's use this concept in our wrapper_function"
   ]
  },
  {
   "cell_type": "code",
   "execution_count": 120,
   "id": "8a3a3b1e",
   "metadata": {},
   "outputs": [
    {
     "name": "stdout",
     "output_type": "stream",
     "text": [
      "display_info will be executed\n",
      "display_info ran with arguments (John, Teacher)\n"
     ]
    }
   ],
   "source": [
    "def decorator_function(original_function):\n",
    "    def wrapper_function(*args, **kwargs):\n",
    "        print(f'{original_function.__name__} will be executed')\n",
    "        return original_function(*args, **kwargs)\n",
    "    return wrapper_function\n",
    "\n",
    "\n",
    "@decorator_function\n",
    "def display_info(name, position):\n",
    "    print(f'display_info ran with arguments ({name}, {position})')\n",
    "    \n",
    "display_info(\"John\", \"Teacher\")\n"
   ]
  },
  {
   "cell_type": "code",
   "execution_count": 118,
   "id": "6dbf2593",
   "metadata": {},
   "outputs": [],
   "source": [
    "@decorator_function\n",
    "def display():\n",
    "    print('display function ran')"
   ]
  },
  {
   "cell_type": "code",
   "execution_count": 119,
   "id": "b9a0b18e",
   "metadata": {},
   "outputs": [
    {
     "name": "stdout",
     "output_type": "stream",
     "text": [
      "display will be executed\n",
      "display function ran\n"
     ]
    }
   ],
   "source": [
    "display()"
   ]
  },
  {
   "cell_type": "markdown",
   "id": "d47f2816",
   "metadata": {},
   "source": [
    "Some programmer like to use class decorator instead of function decoratorator"
   ]
  },
  {
   "cell_type": "code",
   "execution_count": 122,
   "id": "d8dc4084",
   "metadata": {},
   "outputs": [
    {
     "name": "stdout",
     "output_type": "stream",
     "text": [
      "display_info will be executed\n",
      "display_info ran with arguments (John, Teacher)\n",
      "display will be executed\n",
      "display function ran\n"
     ]
    }
   ],
   "source": [
    "def decorator_function(original_function):\n",
    "    def wrapper_function(*args, **kwargs):\n",
    "        print(f'{original_function.__name__} will be executed')\n",
    "        return original_function(*args, **kwargs)\n",
    "    return wrapper_function\n",
    "\n",
    "class decorator_class:\n",
    "    \n",
    "    def __init__(self, original_function):\n",
    "        self.original_function = original_function\n",
    "        \n",
    "    def __call__(self, *args, **kwargs):\n",
    "        print(f'{self.original_function.__name__} will be executed')\n",
    "        return self.original_function(*args, **kwargs)\n",
    "\n",
    "\n",
    "@decorator_class\n",
    "def display_info(name, position):\n",
    "    print(f'display_info ran with arguments ({name}, {position})')\n",
    "    \n",
    "@decorator_function\n",
    "def display():\n",
    "    print('display function ran')\n",
    "    \n",
    "display_info(\"John\", \"Teacher\")\n",
    "display()"
   ]
  },
  {
   "cell_type": "markdown",
   "id": "624fdc1f",
   "metadata": {},
   "source": [
    "Example"
   ]
  },
  {
   "cell_type": "code",
   "execution_count": 150,
   "id": "5deed70c",
   "metadata": {},
   "outputs": [
    {
     "name": "stdout",
     "output_type": "stream",
     "text": [
      "0.0 sec\n"
     ]
    },
    {
     "data": {
      "text/plain": [
       "499500"
      ]
     },
     "execution_count": 150,
     "metadata": {},
     "output_type": "execute_result"
    }
   ],
   "source": [
    "import time\n",
    "\n",
    "def timeit(func):  # closure pattern\n",
    "    def wrapper_timeit(*arg, **kwarg):\n",
    "        start = time.time()\n",
    "        inner_return_value = func(*arg, **kwarg)\n",
    "        print(f'{round(time.time() - start, 2)} sec')\n",
    "        return inner_return_value\n",
    "    return wrapper_timeit\n",
    "\n",
    "@timeit\n",
    "def small_func():\n",
    "    return sum([x for x in range(1000)])\n",
    "\n",
    "@timeit  # heavy_function = timeit(heavy_function)\n",
    "def heavy_func():\n",
    "    return sum([_ for _ in range(10000000)])\n",
    "\n",
    "small_func()"
   ]
  },
  {
   "cell_type": "code",
   "execution_count": 133,
   "id": "200819eb",
   "metadata": {},
   "outputs": [
    {
     "name": "stdout",
     "output_type": "stream",
     "text": [
      "3.18 sec\n"
     ]
    },
    {
     "data": {
      "text/plain": [
       "49999995000000"
      ]
     },
     "execution_count": 133,
     "metadata": {},
     "output_type": "execute_result"
    }
   ],
   "source": [
    "heavy_func()"
   ]
  },
  {
   "cell_type": "code",
   "execution_count": 151,
   "id": "49ab5b40",
   "metadata": {},
   "outputs": [],
   "source": [
    "def logging(func):  # closure pattern\n",
    "    def wrapper_logging(*arg, **kwarg):\n",
    "        print(f'Starting function {func.__name__}')\n",
    "        inner_return_value = func(*arg, **kwarg)\n",
    "        print(inner_return_value)\n",
    "        print(f'Ending function {func.__name__}')\n",
    "        return inner_return_value\n",
    "    return wrapper_logging\n",
    "\n",
    "@logging\n",
    "def small_func():\n",
    "    return sum([x for x in range(1000)])\n",
    "\n",
    "@logging\n",
    "def heavy_func():\n",
    "    return sum([_ for _ in range(10000000)])"
   ]
  },
  {
   "cell_type": "code",
   "execution_count": 152,
   "id": "2703bc54",
   "metadata": {},
   "outputs": [
    {
     "name": "stdout",
     "output_type": "stream",
     "text": [
      "Starting function small_func\n",
      "499500\n",
      "Ending function small_func\n"
     ]
    },
    {
     "data": {
      "text/plain": [
       "499500"
      ]
     },
     "execution_count": 152,
     "metadata": {},
     "output_type": "execute_result"
    }
   ],
   "source": [
    "small_func()"
   ]
  },
  {
   "cell_type": "code",
   "execution_count": 153,
   "id": "5b5a8dea",
   "metadata": {},
   "outputs": [
    {
     "name": "stdout",
     "output_type": "stream",
     "text": [
      "Starting function heavy_func\n",
      "49999995000000\n",
      "Ending function heavy_func\n"
     ]
    },
    {
     "data": {
      "text/plain": [
       "49999995000000"
      ]
     },
     "execution_count": 153,
     "metadata": {},
     "output_type": "execute_result"
    }
   ],
   "source": [
    "heavy_func()"
   ]
  },
  {
   "cell_type": "code",
   "execution_count": 154,
   "id": "d3002902",
   "metadata": {},
   "outputs": [],
   "source": [
    "@logging\n",
    "@timeit\n",
    "def heavy_func():\n",
    "    return sum([_ for _ in range(10000000)])"
   ]
  },
  {
   "cell_type": "code",
   "execution_count": 155,
   "id": "b1caa7c3",
   "metadata": {},
   "outputs": [
    {
     "name": "stdout",
     "output_type": "stream",
     "text": [
      "Starting function wrapper_timeit\n",
      "3.26 sec\n",
      "49999995000000\n",
      "Ending function wrapper_timeit\n"
     ]
    },
    {
     "data": {
      "text/plain": [
       "49999995000000"
      ]
     },
     "execution_count": 155,
     "metadata": {},
     "output_type": "execute_result"
    }
   ],
   "source": [
    "heavy_func()"
   ]
  },
  {
   "cell_type": "code",
   "execution_count": 156,
   "id": "73744b74",
   "metadata": {},
   "outputs": [],
   "source": [
    "@timeit\n",
    "@logging\n",
    "def heavy_func():\n",
    "    return sum([_ for _ in range(10000000)])"
   ]
  },
  {
   "cell_type": "code",
   "execution_count": 157,
   "id": "388f7068",
   "metadata": {},
   "outputs": [
    {
     "name": "stdout",
     "output_type": "stream",
     "text": [
      "Starting function heavy_func\n",
      "49999995000000\n",
      "Ending function heavy_func\n",
      "3.04 sec\n"
     ]
    },
    {
     "data": {
      "text/plain": [
       "49999995000000"
      ]
     },
     "execution_count": 157,
     "metadata": {},
     "output_type": "execute_result"
    }
   ],
   "source": [
    "heavy_func()"
   ]
  },
  {
   "cell_type": "code",
   "execution_count": null,
   "id": "d126dcbd",
   "metadata": {},
   "outputs": [],
   "source": []
  }
 ],
 "metadata": {
  "kernelspec": {
   "display_name": "Python 3",
   "language": "python",
   "name": "python3"
  },
  "language_info": {
   "codemirror_mode": {
    "name": "ipython",
    "version": 3
   },
   "file_extension": ".py",
   "mimetype": "text/x-python",
   "name": "python",
   "nbconvert_exporter": "python",
   "pygments_lexer": "ipython3",
   "version": "3.8.2"
  }
 },
 "nbformat": 4,
 "nbformat_minor": 5
}
