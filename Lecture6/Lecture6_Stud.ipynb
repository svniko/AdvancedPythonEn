{
 "cells": [
  {
   "cell_type": "markdown",
   "id": "af73bdc5",
   "metadata": {},
   "source": [
    "Assoc. Prof. Svitlana Kovalenko<br>\n",
    "Department of Software Engineering<br>\n",
    "and Management Intelligent Technologies<br>\n",
    "NTU KhPI"
   ]
  },
  {
   "cell_type": "markdown",
   "id": "c25f7dd7",
   "metadata": {},
   "source": [
    "# Lecture 6\n"
   ]
  },
  {
   "cell_type": "markdown",
   "id": "251e5201",
   "metadata": {},
   "source": [
    "# Inheritance"
   ]
  },
  {
   "cell_type": "markdown",
   "id": "3d5f3f12",
   "metadata": {},
   "source": [
    "Inheritance allows us to define a class that inherits the methods and attributes from another class.\n",
    "\n",
    "**Parent class** is the class being inherited from, also called **base** class.\n",
    "\n",
    "**Child class** is the class that inherits from another class, also called **derived** class or __subclass__.\n",
    "\n",
    "This is useful because we can create a subclasses and get all the functionality from a parent class. Also we can **override** or add a complitely new functionality without affecting a parent class.\n"
   ]
  },
  {
   "cell_type": "markdown",
   "id": "dd4baf2a",
   "metadata": {},
   "source": [
    "```Python\n",
    "class ParentClass:\n",
    "    # Parent class methods and attributes\n",
    "\n",
    "class ChildClass(ParentClass):\n",
    "    # Child class methods and attributes\n",
    "```"
   ]
  },
  {
   "cell_type": "markdown",
   "id": "7b3314eb",
   "metadata": {},
   "source": [
    "Here, `ParentClass` is the name of the parent class, and `ChildClass` is the name of the child class. The child class is created by specifying the parent class in parentheses after the child class name.\n",
    "\n",
    "The child class inherits all the attributes and methods of the parent class and can also define its own attributes and methods. The child class can also override the methods of the parent class or add new methods to it.\n",
    "\n",
    "For example, let's say we have a `Person` class with a `name`, `last_name` and `email` attribute and `fullname()` method:"
   ]
  },
  {
   "cell_type": "markdown",
   "id": "8cd83e52",
   "metadata": {},
   "source": [
    "Let's create different types of Person - `Student` and `Trainer`.  These will be good candidates for subclasses because both `Student` and `Trainer` are going to have names, email addresses, and those are all things that our `Person` class already has.\n",
    "\n"
   ]
  },
  {
   "attachments": {
    "image.png": {
     "image/png": "[encoded data removed]"
    }
   },
   "cell_type": "markdown",
   "id": "6d3b6007",
   "metadata": {},
   "source": [
    "![image.png](attachment:image.png)"
   ]
  },
  {
   "cell_type": "code",
   "execution_count": 96,
   "id": "1ee77d60",
   "metadata": {},
   "outputs": [
    {
     "name": "stdout",
     "output_type": "stream",
     "text": [
      "Mark\n",
      "Mary\n",
      "John\n"
     ]
    }
   ],
   "source": [
    "class Person:\n",
    "    \n",
    "    discount_amount = 0.02\n",
    "    \n",
    "    def __init__(self, name, last_name,fee):\n",
    "        self.name = name\n",
    "        self.last_name = last_name\n",
    "        self.email = f'{name}.{last_name}@khpi.edu.ua'\n",
    "        self.fee = fee\n",
    "        \n",
    "    def get_discount(self):\n",
    "        self.fee = int(self.fee * (1 - self.discount_amount))\n",
    "\n",
    "    def fullname(self):\n",
    "        return f'{self.name} {self.last_name}'\n",
    "    \n",
    "class Student(Person):\n",
    "    pass\n",
    "\n",
    "mark = Person('Mark', 'Darcy', 300)\n",
    "mary = Person('Mary', 'Shelley', 240)\n",
    "john = Person('John', 'Thornton', 300)\n",
    "\n",
    "print(mark.name)\n",
    "print(mary.name)\n",
    "print(john.name)\n"
   ]
  },
  {
   "cell_type": "code",
   "execution_count": 86,
   "id": "fd0485ce",
   "metadata": {},
   "outputs": [
    {
     "name": "stdout",
     "output_type": "stream",
     "text": [
      "Mark\n",
      "Mary\n",
      "John\n"
     ]
    }
   ],
   "source": [
    "mark_student = Student('Mark', 'Darcy', 200)\n",
    "mary_student = Student('Mary', 'Shelley', 300)\n",
    "john_student = Student('John', 'Thornton', 220)\n",
    "\n",
    "print(mark_student.name)\n",
    "print(mary_student.name)\n",
    "print(john_student.name)"
   ]
  },
  {
   "cell_type": "code",
   "execution_count": 19,
   "id": "4408cec8",
   "metadata": {
    "scrolled": true
   },
   "outputs": [
    {
     "data": {
      "text/plain": [
       "{'name': 'Mark', 'last_name': 'Darcy', 'email': 'Mark.Darcy@khpi.edu.ua'}"
      ]
     },
     "execution_count": 19,
     "metadata": {},
     "output_type": "execute_result"
    }
   ],
   "source": [
    "mark_student.__dict__"
   ]
  },
  {
   "cell_type": "code",
   "execution_count": 20,
   "id": "87100425",
   "metadata": {},
   "outputs": [
    {
     "data": {
      "text/plain": [
       "{'name': 'Mark', 'last_name': 'Darcy', 'email': 'Mark.Darcy@khpi.edu.ua'}"
      ]
     },
     "execution_count": 20,
     "metadata": {},
     "output_type": "execute_result"
    }
   ],
   "source": [
    "mark.__dict__"
   ]
  },
  {
   "cell_type": "code",
   "execution_count": 26,
   "id": "2da9f369",
   "metadata": {},
   "outputs": [
    {
     "data": {
      "text/plain": [
       "__main__.Person"
      ]
     },
     "execution_count": 26,
     "metadata": {},
     "output_type": "execute_result"
    }
   ],
   "source": [
    "mark.__class__"
   ]
  },
  {
   "cell_type": "code",
   "execution_count": 22,
   "id": "1b36243a",
   "metadata": {},
   "outputs": [
    {
     "data": {
      "text/plain": [
       "__main__.Student"
      ]
     },
     "execution_count": 22,
     "metadata": {},
     "output_type": "execute_result"
    }
   ],
   "source": [
    "mark_student.__class__"
   ]
  },
  {
   "cell_type": "code",
   "execution_count": 27,
   "id": "1718ec47",
   "metadata": {},
   "outputs": [
    {
     "data": {
      "text/plain": [
       "'Student'"
      ]
     },
     "execution_count": 27,
     "metadata": {},
     "output_type": "execute_result"
    }
   ],
   "source": [
    "mark_student.__class__.__name__"
   ]
  },
  {
   "cell_type": "markdown",
   "id": "1a8603fc",
   "metadata": {},
   "source": [
    "MRO (Method Resolution Order) is the order in which Python looks for methods to execute in a class hierarchy. When you call a method on an object, Python searches the object's class and its superclasses (in a specific order) to find the method to execute.\n",
    "\n",
    "The MRO is determined by the C3 linearization algorithm, which is used to merge the method resolution orders of the base classes in a consistent and predictable way. This algorithm takes into account the order of the base classes, as well as the order in which they appear in the inheritance hierarchy, to create a linear ordering of all the classes that preserves the ordering constraints of the base classes.\n",
    "\n",
    "You can view the MRO of a class by calling the `mro()` method on the class or the type."
   ]
  },
  {
   "cell_type": "code",
   "execution_count": 14,
   "id": "08e0491a",
   "metadata": {},
   "outputs": [
    {
     "data": {
      "text/plain": [
       "[__main__.Student, __main__.Person, object]"
      ]
     },
     "execution_count": 14,
     "metadata": {},
     "output_type": "execute_result"
    }
   ],
   "source": [
    "Student.mro()"
   ]
  },
  {
   "cell_type": "code",
   "execution_count": 15,
   "id": "41c05ec2",
   "metadata": {
    "scrolled": true
   },
   "outputs": [
    {
     "data": {
      "text/plain": [
       "(__main__.Student, __main__.Person, object)"
      ]
     },
     "execution_count": 15,
     "metadata": {},
     "output_type": "execute_result"
    }
   ],
   "source": [
    "Student.__mro__"
   ]
  },
  {
   "cell_type": "markdown",
   "id": "400f02d6",
   "metadata": {},
   "source": [
    "In this example, the `Student` class inherits from the `Person` class, which in turn inherit `object` (which is the ultimate base class of all classes in Python). Calling `Student.mro()` returns a list of classes in the order that Python will search for methods, starting with `Student`, then `Person`,  and finally the object class."
   ]
  },
  {
   "cell_type": "markdown",
   "id": "ac522bde",
   "metadata": {},
   "source": [
    "In fact the following notation \n",
    "\n",
    "```Python\n",
    "class Person:\n",
    "```\n",
    "```Python\n",
    "class Person():\n",
    "```\n",
    "```Python\n",
    "class Person(object):\n",
    "```\n",
    "\n",
    "do the same thing"
   ]
  },
  {
   "cell_type": "markdown",
   "id": "48d9fa4e",
   "metadata": {},
   "source": [
    "Understanding the MRO is important when dealing with multiple inheritance, where a class inherits from multiple base classes that may have methods with the same name. In such cases, the MRO determines the order in which Python searches for the method to execute, and can affect the behavior of the program."
   ]
  },
  {
   "cell_type": "markdown",
   "id": "b439d7a1",
   "metadata": {},
   "source": [
    "You can also use `help()` function to look at `Method resolution order`"
   ]
  },
  {
   "cell_type": "code",
   "execution_count": 87,
   "id": "8cc2e2c4",
   "metadata": {
    "scrolled": true
   },
   "outputs": [
    {
     "name": "stdout",
     "output_type": "stream",
     "text": [
      "Help on class Student in module __main__:\n",
      "\n",
      "class Student(Person)\n",
      " |  Student(name, last_name, fee)\n",
      " |  \n",
      " |  Method resolution order:\n",
      " |      Student\n",
      " |      Person\n",
      " |      builtins.object\n",
      " |  \n",
      " |  Methods inherited from Person:\n",
      " |  \n",
      " |  __init__(self, name, last_name, fee)\n",
      " |      Initialize self.  See help(type(self)) for accurate signature.\n",
      " |  \n",
      " |  fullname(self)\n",
      " |  \n",
      " |  get_discount(self)\n",
      " |  \n",
      " |  ----------------------------------------------------------------------\n",
      " |  Data descriptors inherited from Person:\n",
      " |  \n",
      " |  __dict__\n",
      " |      dictionary for instance variables (if defined)\n",
      " |  \n",
      " |  __weakref__\n",
      " |      list of weak references to the object (if defined)\n",
      " |  \n",
      " |  ----------------------------------------------------------------------\n",
      " |  Data and other attributes inherited from Person:\n",
      " |  \n",
      " |  discount_amount = 0.02\n",
      "\n"
     ]
    }
   ],
   "source": [
    "help(Student)"
   ]
  },
  {
   "cell_type": "markdown",
   "id": "3c94322a",
   "metadata": {},
   "source": [
    "If you want get mro() method from an instance, you should firstly call the `__class__` attribute"
   ]
  },
  {
   "cell_type": "code",
   "execution_count": 28,
   "id": "b807a9ed",
   "metadata": {
    "scrolled": true
   },
   "outputs": [
    {
     "data": {
      "text/plain": [
       "[__main__.Student, __main__.Person, object]"
      ]
     },
     "execution_count": 28,
     "metadata": {},
     "output_type": "execute_result"
    }
   ],
   "source": [
    "mark_student.__class__.mro()"
   ]
  },
  {
   "cell_type": "markdown",
   "id": "874ff6ed",
   "metadata": {},
   "source": [
    "Let's see on discount_amount"
   ]
  },
  {
   "cell_type": "code",
   "execution_count": 25,
   "id": "f24e82ea",
   "metadata": {},
   "outputs": [
    {
     "name": "stdout",
     "output_type": "stream",
     "text": [
      "200\n",
      "196\n"
     ]
    }
   ],
   "source": [
    "class Person:\n",
    "    \n",
    "    discount_amount = 0.02\n",
    "    \n",
    "    def __init__(self, name, last_name, fee):\n",
    "        self.name = name\n",
    "        self.last_name = last_name\n",
    "        self.email = f'{name}.{last_name}@khpi.edu.ua'\n",
    "        self.fee = fee\n",
    "        \n",
    "    def get_discount(self):\n",
    "        self.fee = int(self.fee * (1 - self.discount_amount))\n",
    "\n",
    "    def fullname(self):\n",
    "        return f'{self.name} {self.last_name}'\n",
    "    \n",
    "class Student(Person):\n",
    "    \"\"\"The class for student customer of a fitness club\"\"\"\n",
    "    pass\n",
    "\n",
    "mark_student = Student('Mark', 'Darcy', 200)\n",
    "\n",
    "print(mark_student.fee)\n",
    "mark_student.get_discount()\n",
    "print(mark_student.fee)"
   ]
  },
  {
   "cell_type": "markdown",
   "id": "e7ed5245",
   "metadata": {},
   "source": [
    "You can see that even if the `Student` class does not have a `discount_amount` variable, it still works, since it is inherited from the `Person` class"
   ]
  },
  {
   "cell_type": "code",
   "execution_count": 26,
   "id": "1b6ef64e",
   "metadata": {
    "scrolled": true
   },
   "outputs": [
    {
     "name": "stdout",
     "output_type": "stream",
     "text": [
      "{'__module__': '__main__', '__doc__': 'The class for student customer of a fitness club'}\n"
     ]
    }
   ],
   "source": [
    "print(Student.__dict__)"
   ]
  },
  {
   "cell_type": "markdown",
   "id": "8c707895",
   "metadata": {},
   "source": [
    "Now let's see what happens if we change the `discount_amount` in the `Student` class"
   ]
  },
  {
   "cell_type": "code",
   "execution_count": 36,
   "id": "cb210308",
   "metadata": {
    "scrolled": true
   },
   "outputs": [
    {
     "name": "stdout",
     "output_type": "stream",
     "text": [
      "200\n",
      "190\n"
     ]
    }
   ],
   "source": [
    "class Person:\n",
    "    \n",
    "    discount_amount = 0.02\n",
    "    \n",
    "    def __init__(self, name, last_name, fee):\n",
    "        self.name = name\n",
    "        self.last_name = last_name\n",
    "        self.email = f'{name}.{last_name}@khpi.edu.ua'\n",
    "        self.fee = fee\n",
    "        \n",
    "    def get_discount(self):\n",
    "        self.fee = int(self.fee * (1 - self.discount_amount))\n",
    "\n",
    "    def fullname(self):\n",
    "        return f'{self.name} {self.last_name}'\n",
    "    \n",
    "class Student(Person):\n",
    "    \"\"\"The class for student customer of a fitness club\"\"\"\n",
    "    discount_amount = 0.05\n",
    "\n",
    "mark_student = Student('Mark', 'Darcy', 200)\n",
    "\n",
    "print(mark_student.fee)\n",
    "mark_student.get_discount()\n",
    "print(mark_student.fee)"
   ]
  },
  {
   "cell_type": "code",
   "execution_count": 37,
   "id": "fad9b0e4",
   "metadata": {
    "scrolled": true
   },
   "outputs": [
    {
     "name": "stdout",
     "output_type": "stream",
     "text": [
      "{'__module__': '__main__', '__doc__': 'The class for student customer of a fitness club', 'discount_amount': 0.05}\n"
     ]
    }
   ],
   "source": [
    "print(Student.__dict__)"
   ]
  },
  {
   "cell_type": "markdown",
   "id": "295305b4",
   "metadata": {},
   "source": [
    "Let's look to the Method Resolution Order"
   ]
  },
  {
   "cell_type": "code",
   "execution_count": 38,
   "id": "49ec1ab3",
   "metadata": {},
   "outputs": [
    {
     "data": {
      "text/plain": [
       "[__main__.Student, __main__.Person, object]"
      ]
     },
     "execution_count": 38,
     "metadata": {},
     "output_type": "execute_result"
    }
   ],
   "source": [
    "Student.mro()"
   ]
  },
  {
   "cell_type": "markdown",
   "id": "4b3f1d2c",
   "metadata": {},
   "source": [
    " "
   ]
  },
  {
   "cell_type": "markdown",
   "id": "7a98b317",
   "metadata": {},
   "source": [
    "Now let's can change our class `Student` that inherits from `Person` and adds a new attribute `grade` and a new method `study()`:"
   ]
  },
  {
   "cell_type": "code",
   "execution_count": 63,
   "id": "e553cb1d",
   "metadata": {},
   "outputs": [
    {
     "name": "stdout",
     "output_type": "stream",
     "text": [
      "Mark Darcy is studying in grade 1\n",
      "Mary\n",
      "John Thornton\n",
      "300\n"
     ]
    }
   ],
   "source": [
    "class Person:\n",
    "    \n",
    "    discount_amount = 0.02\n",
    "    \n",
    "    def __init__(self, name, last_name, fee=350):\n",
    "        self.name = name\n",
    "        self.last_name = last_name\n",
    "        self.email = f'{name}.{last_name}@khpi.edu.ua'\n",
    "        self.fee = fee\n",
    "        \n",
    "    def get_discount(self):\n",
    "        self.fee = int(self.fee * (1 - self.discount_amount))\n",
    "\n",
    "    def fullname(self):\n",
    "        return f'{self.name} {self.last_name}'\n",
    "    \n",
    "class Student(Person):\n",
    "    \n",
    "    \"\"\"The class for student customer of a fitness club\"\"\"\n",
    "    \n",
    "    discount_amount = 0.05\n",
    "    \n",
    "    def __init__(self, name, last_name, grade, fee=300):\n",
    "        Person.__init__(self, name,  last_name, fee)\n",
    "        self.grade = grade\n",
    "        \n",
    "    def study(self):\n",
    "        return f\"{self.fullname()} is studying in grade {self.grade}\"\n",
    "        \n",
    "\n",
    "mark = Person('Mark', 'Darcy')\n",
    "\n",
    "mark_student = Student('Mark', 'Darcy', 1)\n",
    "mary_student = Student('Mary', 'Shelley', 2)\n",
    "john_student = Student('John', 'Thornton', 3)\n",
    "\n",
    "print(mark_student.study()) # method of Student class\n",
    "print(mary_student.name)  # attribute, inherited from Person class\n",
    "print(john_student.fullname()) # method, inherited from Person class\n",
    "print(john_student.fee)"
   ]
  },
  {
   "cell_type": "markdown",
   "id": "21532ec9",
   "metadata": {},
   "source": [
    "But `Person` instance doesn't have study() method"
   ]
  },
  {
   "cell_type": "code",
   "execution_count": 43,
   "id": "02e8951f",
   "metadata": {},
   "outputs": [
    {
     "ename": "AttributeError",
     "evalue": "'Person' object has no attribute 'study'",
     "output_type": "error",
     "traceback": [
      "\u001b[1;31m-----------------------------------------------------------\u001b[0m",
      "\u001b[1;31mAttributeError\u001b[0m            Traceback (most recent call last)",
      "Cell \u001b[1;32mIn[43], line 1\u001b[0m\n\u001b[1;32m----> 1\u001b[0m \u001b[38;5;28mprint\u001b[39m(\u001b[43mmark\u001b[49m\u001b[38;5;241;43m.\u001b[39;49m\u001b[43mstudy\u001b[49m())\n",
      "\u001b[1;31mAttributeError\u001b[0m: 'Person' object has no attribute 'study'"
     ]
    }
   ],
   "source": [
    "print(mark.study())"
   ]
  },
  {
   "cell_type": "markdown",
   "id": "fe71a6ea",
   "metadata": {},
   "source": [
    "In the `__init__()` method of the` Student` class we use \n",
    "```Python\n",
    "Person.__init__(self, name, last_name)\n",
    "````"
   ]
  },
  {
   "cell_type": "markdown",
   "id": "f5a6f5fa",
   "metadata": {},
   "source": [
    "Another way is using the `super()` function to call the `__init__()` method of the `Person` class and initialize the name and last_name attributes."
   ]
  },
  {
   "cell_type": "code",
   "execution_count": null,
   "id": "451b7ae8",
   "metadata": {},
   "outputs": [],
   "source": [
    "class Student(Person):\n",
    "    def __init__(self, name, last_name, grade, fee=300):\n",
    "        super().__init__(name,  last_name, fee)\n",
    "        self.grade = grade"
   ]
  },
  {
   "cell_type": "code",
   "execution_count": 64,
   "id": "4c8e9c26",
   "metadata": {},
   "outputs": [
    {
     "name": "stdout",
     "output_type": "stream",
     "text": [
      "Mark Darcy is studying in grade 1\n",
      "Mary\n",
      "John Thornton\n",
      "Fees\n",
      "300\n",
      "400\n",
      "350\n"
     ]
    }
   ],
   "source": [
    "class Person:\n",
    "    \n",
    "    discount_amount = 0.02\n",
    "    \n",
    "    def __init__(self, name, last_name, fee=350):\n",
    "        self.name = name\n",
    "        self.last_name = last_name\n",
    "        self.email = f'{name}.{last_name}@khpi.edu.ua'\n",
    "        self.fee = fee\n",
    "        \n",
    "    def get_discount(self):\n",
    "        self.fee = int(self.fee * (1 - self.discount_amount))\n",
    "\n",
    "    def fullname(self):\n",
    "        return f'{self.name} {self.last_name}'\n",
    "    \n",
    "class Student(Person):\n",
    "    \n",
    "    \"\"\"The class for student customer of a fitness club\"\"\"\n",
    "    \n",
    "    discount_amount = 0.05\n",
    "    \n",
    "    def __init__(self, name, last_name, grade, fee=300):\n",
    "        super().__init__(name,  last_name, fee)\n",
    "        self.grade = grade\n",
    "        \n",
    "    def study(self):\n",
    "        return f\"{self.fullname()} is studying in grade {self.grade}\"\n",
    "        \n",
    "\n",
    "mark = Person('Mark', 'Darcy')\n",
    "\n",
    "mark_student = Student('Mark', 'Darcy', 1, 400)\n",
    "mary_student = Student('Mary', 'Shelley', 2)\n",
    "john_student = Student('John', 'Thornton', 3)\n",
    "\n",
    "print(mark_student.study()) # method of Student class\n",
    "print(mary_student.name)  # attribute, inherited from Person class\n",
    "print(john_student.fullname()) # method, inherited from Person class\n",
    "print(\"Fees\")\n",
    "print(john_student.fee)\n",
    "print(mark_student.fee)\n",
    "print(mark.fee)"
   ]
  },
  {
   "cell_type": "markdown",
   "id": "3b0cda45",
   "metadata": {},
   "source": [
    "Now let's create another class - `Trainer`. \n",
    "\n",
    "Obviously, your trainer needs to have a salary, and we are also going to create a list of students that our trainer will train."
   ]
  },
  {
   "cell_type": "code",
   "execution_count": 130,
   "id": "8c8b172a",
   "metadata": {},
   "outputs": [
    {
     "name": "stdout",
     "output_type": "stream",
     "text": [
      "5000\n",
      "0\n",
      "Tim.Peters@khpi.edu.ua\n"
     ]
    }
   ],
   "source": [
    "class Person:\n",
    "    \n",
    "    discount_amount = 0.02\n",
    "    \n",
    "    def __init__(self, name, last_name, fee=350):\n",
    "        self.name = name\n",
    "        self.last_name = last_name\n",
    "        self.email = f'{name}.{last_name}@khpi.edu.ua'\n",
    "        self.fee = fee\n",
    "        \n",
    "    def get_discount(self):\n",
    "        self.fee = int(self.fee * (1 - self.discount_amount))\n",
    "\n",
    "    def fullname(self):\n",
    "        return f'{self.name} {self.last_name}'\n",
    "    \n",
    "class Student(Person):\n",
    "    \n",
    "    \"\"\"The class for student customer of a fitness club\"\"\"\n",
    "    \n",
    "    discount_amount = 0.05\n",
    "    \n",
    "    def __init__(self, name, last_name, grade, fee=300):\n",
    "        super().__init__(name,  last_name, fee)\n",
    "        self.grade = grade\n",
    "        \n",
    "    def study(self):\n",
    "        return f\"{self.fullname()} is studying in grade {self.grade}\"\n",
    "    \n",
    "    \n",
    "class Trainer(Person):\n",
    "    def __init__(self, name, last_name, salary, fee=0):\n",
    "        super().__init__(name, last_name, fee)\n",
    "        self.salary = salary\n",
    "        \n",
    "tim = Trainer(\"Tim\", \"Peters\", 5000)\n",
    "print(tim.salary)\n",
    "print(tim.fee) \n",
    "print(tim.email)"
   ]
  },
  {
   "cell_type": "markdown",
   "id": "22733588",
   "metadata": {},
   "source": [
    "Now we are going to add a list of students to our trainer\n",
    "\n",
    "Why mustn't use a mutable datatype as a default peremeter, because it \n",
    "can lead to unexpected behavior and bugs in your code, which is why it is generally not recommended.\n",
    "\n",
    "When you define a function with a default argument, Python creates a new object for that argument only once, when the function is defined. This means that if the default argument is mutable (such as a list or dictionary), and you modify it within the function, those changes will be persisted across subsequent function calls.\n",
    "\n",
    "https://florimond.dev/en/posts/2018/08/python-mutable-defaults-are-the-source-of-all-evil/#:~:text=Do%20not%20use%20mutable%20default,mutable%20value%20inside%20the%20function."
   ]
  },
  {
   "cell_type": "code",
   "execution_count": 144,
   "id": "ea1247f2",
   "metadata": {},
   "outputs": [],
   "source": [
    "class Person:\n",
    "    \n",
    "    discount_amount = 0.02\n",
    "    \n",
    "    def __init__(self, name, last_name, fee=350):\n",
    "        self.name = name\n",
    "        self.last_name = last_name\n",
    "        self.email = f'{name}.{last_name}@khpi.edu.ua'\n",
    "        self.fee = fee\n",
    "        \n",
    "    def get_discount(self):\n",
    "        self.fee = int(self.fee * (1 - self.discount_amount))\n",
    "\n",
    "    def fullname(self):\n",
    "        return f'{self.name} {self.last_name}'\n",
    "    \n",
    "class Student(Person):\n",
    "    \n",
    "    \"\"\"The class for student customer of a fitness club\"\"\"\n",
    "    \n",
    "    discount_amount = 0.05\n",
    "    \n",
    "    def __init__(self, name, last_name, grade, fee=300):\n",
    "        super().__init__(name,  last_name, fee)\n",
    "        self.grade = grade\n",
    "        \n",
    "    def study(self):\n",
    "        return f\"{self.fullname()} is studying in grade {self.grade}\"\n",
    "    \n",
    "    \n",
    "class Trainer(Person):\n",
    "    def __init__(self, name, last_name, salary, students=None, fee=0):\n",
    "        super().__init__(name, last_name, fee)\n",
    "        self.salary = salary\n",
    "        if students is None:\n",
    "            self.students = []\n",
    "        else:\n",
    "            self.students = students\n",
    "            \n",
    "    def add_student(self, stud):\n",
    "        if stud not in self.students:\n",
    "            self.students.append(stud)\n",
    "        \n",
    "    def remove_student(self, stud):\n",
    "        if stud in self.students:\n",
    "            self.students.remove(stud)\n",
    "            \n",
    "    def print_studs(self):\n",
    "        for num, stud in enumerate(self.students):\n",
    "            print (f\"{num+1}: {stud.fullname()}\")\n",
    "        \n",
    "mark_student = Student('Mark', 'Darcy', 1, 400)\n",
    "mary_student = Student('Mary', 'Shelley', 2)\n",
    "john_student = Student('John', 'Thornton', 3)            \n",
    "\n",
    "tim = Trainer(\"Tim\", \"Peters\", 5000)\n",
    "\n",
    "tim.add_student(mark_student)\n",
    "tim.add_student(mary_student)"
   ]
  },
  {
   "cell_type": "code",
   "execution_count": 145,
   "id": "fa18c0e1",
   "metadata": {},
   "outputs": [
    {
     "name": "stdout",
     "output_type": "stream",
     "text": [
      "1: Mark Darcy\n",
      "2: Mary Shelley\n"
     ]
    }
   ],
   "source": [
    "tim.print_studs()"
   ]
  },
  {
   "cell_type": "code",
   "execution_count": 147,
   "id": "1150efff",
   "metadata": {},
   "outputs": [
    {
     "name": "stdout",
     "output_type": "stream",
     "text": [
      "1: Mary Shelley\n",
      "2: John Thornton\n"
     ]
    }
   ],
   "source": [
    "anna = Trainer(\"Tim\", \"Peters\", 5000, [mary_student, john_student])\n",
    "anna.print_studs()"
   ]
  },
  {
   "cell_type": "code",
   "execution_count": 148,
   "id": "cf283df8",
   "metadata": {},
   "outputs": [
    {
     "name": "stdout",
     "output_type": "stream",
     "text": [
      "1: Mary Shelley\n",
      "2: John Thornton\n"
     ]
    }
   ],
   "source": [
    "anna.add_student(mary_student)\n",
    "anna.print_studs()"
   ]
  },
  {
   "cell_type": "code",
   "execution_count": 149,
   "id": "8a19c38c",
   "metadata": {},
   "outputs": [
    {
     "name": "stdout",
     "output_type": "stream",
     "text": [
      "1: Mary Shelley\n",
      "2: John Thornton\n",
      "3: Mark Darcy\n"
     ]
    }
   ],
   "source": [
    "anna.add_student(mark_student)\n",
    "anna.print_studs()"
   ]
  },
  {
   "cell_type": "code",
   "execution_count": 150,
   "id": "1aba9fec",
   "metadata": {},
   "outputs": [
    {
     "name": "stdout",
     "output_type": "stream",
     "text": [
      "1: Mary Shelley\n",
      "2: John Thornton\n"
     ]
    }
   ],
   "source": [
    "anna.remove_student(mark_student)\n",
    "anna.print_studs()"
   ]
  },
  {
   "cell_type": "code",
   "execution_count": null,
   "id": "ab7b96b0",
   "metadata": {},
   "outputs": [],
   "source": []
  }
 ],
 "metadata": {
  "kernelspec": {
   "display_name": "Python 3",
   "language": "python",
   "name": "python3"
  },
  "language_info": {
   "codemirror_mode": {
    "name": "ipython",
    "version": 3
   },
   "file_extension": ".py",
   "mimetype": "text/x-python",
   "name": "python",
   "nbconvert_exporter": "python",
   "pygments_lexer": "ipython3",
   "version": "3.8.2"
  }
 },
 "nbformat": 4,
 "nbformat_minor": 5
}
