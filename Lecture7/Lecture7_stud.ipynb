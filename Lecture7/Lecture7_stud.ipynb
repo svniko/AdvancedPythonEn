{
 "cells": [
  {
   "cell_type": "markdown",
   "id": "fd9a77ae",
   "metadata": {},
   "source": [
    "Assoc. Prof. Svitlana Kovalenko<br>\n",
    "Department of Software Engineering<br>\n",
    "and Management Intelligent Technologies<br>\n",
    "NTU KhPI"
   ]
  },
  {
   "cell_type": "markdown",
   "id": "011a6169",
   "metadata": {},
   "source": [
    "# Lecture 7\n"
   ]
  },
  {
   "cell_type": "markdown",
   "id": "1f3adf12",
   "metadata": {},
   "source": [
    "### Dunder methods"
   ]
  },
  {
   "cell_type": "markdown",
   "id": "e55a2e50",
   "metadata": {},
   "source": [
    "In Python, dunder methods are special methods with names that start and end with double underscores. These methods are also called \"magic methods\" or \"special methods.\"\n",
    "\n",
    "Dunder methods in Python are used to define the behavior of built-in Python operations for custom classes. For example, the `__init__()` method is a dunder method used to initialize an instance of a class, and the `__str__()` method is used to define how an object should be printed as a string.\n",
    "\n",
    "these special methods allow us to emulate some built-in behavior\n",
    "within Python and it's also how we\n",
    "implement operator overloading \n",
    "\n",
    "Python is a language that has a rich set of built-in functions and operators that work really well with the built-in types. For example, the operator `+` works on numbers, as addition, but it also works on strings, lists, and tuples, as concatenation:"
   ]
  },
  {
   "cell_type": "code",
   "execution_count": 151,
   "id": "380ca400",
   "metadata": {
    "scrolled": true
   },
   "outputs": [
    {
     "data": {
      "text/plain": [
       "3.3"
      ]
     },
     "execution_count": 151,
     "metadata": {},
     "output_type": "execute_result"
    }
   ],
   "source": [
    "1 + 2.3"
   ]
  },
  {
   "cell_type": "code",
   "execution_count": 5,
   "id": "e0058944",
   "metadata": {},
   "outputs": [
    {
     "data": {
      "text/plain": [
       "int"
      ]
     },
     "execution_count": 5,
     "metadata": {},
     "output_type": "execute_result"
    }
   ],
   "source": [
    "(1).__class__"
   ]
  },
  {
   "cell_type": "code",
   "execution_count": 109,
   "id": "21adecc7",
   "metadata": {},
   "outputs": [
    {
     "data": {
      "text/plain": [
       "float"
      ]
     },
     "execution_count": 109,
     "metadata": {},
     "output_type": "execute_result"
    }
   ],
   "source": [
    "(2.3).__class__"
   ]
  },
  {
   "cell_type": "code",
   "execution_count": 152,
   "id": "777ff046",
   "metadata": {},
   "outputs": [
    {
     "data": {
      "text/plain": [
       "[1, 2, 3, 4, 5, 6]"
      ]
     },
     "execution_count": 152,
     "metadata": {},
     "output_type": "execute_result"
    }
   ],
   "source": [
    "[1, 2, 3] + [4, 5, 6]"
   ]
  },
  {
   "cell_type": "code",
   "execution_count": 153,
   "id": "0ce814cf",
   "metadata": {},
   "outputs": [
    {
     "data": {
      "text/plain": [
       "'ab'"
      ]
     },
     "execution_count": 153,
     "metadata": {},
     "output_type": "execute_result"
    }
   ],
   "source": [
    "'a'+'b'"
   ]
  },
  {
   "cell_type": "markdown",
   "id": "28239b38",
   "metadata": {},
   "source": [
    "In Python, dunder methods are methods that allow instances of a class to interact with the built-in functions and operators of the language. The word “dunder” comes from “double underscore”, because the names of dunder methods start and end with two underscores, for example `__str__` or `__add__`. Typically, dunder methods are not invoked directly by the programmer, making it look like they are called by magic. That is why dunder methods are also referred to as “magic methods” sometimes."
   ]
  },
  {
   "cell_type": "markdown",
   "id": "1712c636",
   "metadata": {},
   "source": [
    "If you have defined classes in Python, you are bound to have crossed paths with a dunder method: `__init__`. The dunder method `__init__` is responsible for initialising your instance of the class, which is why it is in there that you usually set a bunch of attributes related to arguments the class received.\n",
    "\n",
    "For example, if you were creating an instance of a class `Person`, you would create the attribute for the side length in `__init__`:"
   ]
  },
  {
   "cell_type": "code",
   "execution_count": 155,
   "id": "21b90d1f",
   "metadata": {},
   "outputs": [
    {
     "name": "stdout",
     "output_type": "stream",
     "text": [
      "Inside __init__\n"
     ]
    }
   ],
   "source": [
    "class Person:\n",
    "    \n",
    "    def __init__(self, name, last_name, fee=350):\n",
    "        self.name = name\n",
    "        self.last_name = last_name\n",
    "        self.email = f'{name}.{last_name}@khpi.edu.ua'\n",
    "        self.fee = fee\n",
    "        print(\"Inside __init__\")\n",
    "        \n",
    "    def fullname(self):\n",
    "        return f'{self.name} {self.last_name}'\n",
    "    \n",
    "mark = Person('Mark', 'Darcy')"
   ]
  },
  {
   "cell_type": "markdown",
   "id": "0bcee445",
   "metadata": {},
   "source": [
    "## Why do dunder methods start and end with two underscores?\n",
    "The two underscores in the beginning and end of the name of a dunder method do not have any special significance. In other words, the fact that the method name starts and ends with two underscores, in and of itself, does nothing special. The two underscores are there just to prevent name collision with other methods implemented by unsuspecting programmers."
   ]
  },
  {
   "cell_type": "markdown",
   "id": "cdb5480c",
   "metadata": {},
   "source": [
    "If we want to print out a `Person` instance "
   ]
  },
  {
   "cell_type": "code",
   "execution_count": 156,
   "id": "177f4234",
   "metadata": {},
   "outputs": [
    {
     "name": "stdout",
     "output_type": "stream",
     "text": [
      "<__main__.Person object at 0x055C62E0>\n"
     ]
    }
   ],
   "source": [
    "print(mark)"
   ]
  },
  {
   "cell_type": "markdown",
   "id": "508c2408",
   "metadata": {},
   "source": [
    "You can see, that we get some vague `Person` object and it would be nice if we could change this behavior to print out something a little bit more user-friendly and that's what these special methods are going to allow us to do. So by defining our own special methods  we'll be able to change some of this built-in behavior and operations"
   ]
  },
  {
   "cell_type": "code",
   "execution_count": 7,
   "id": "72118439",
   "metadata": {},
   "outputs": [
    {
     "name": "stdout",
     "output_type": "stream",
     "text": [
      "Inside __init__\n",
      "Person(Mark, Darcy, 350)\n"
     ]
    },
    {
     "data": {
      "text/plain": [
       "'Person(Mark, Darcy, 350)'"
      ]
     },
     "execution_count": 7,
     "metadata": {},
     "output_type": "execute_result"
    }
   ],
   "source": [
    "class Person:\n",
    "    \n",
    "    def __init__(self, name, last_name, fee=350):\n",
    "        self.name = name\n",
    "        self.last_name = last_name\n",
    "        self.email = f'{name}.{last_name}@khpi.edu.ua'\n",
    "        self.fee = fee\n",
    "        print(\"Inside __init__\")\n",
    "        \n",
    "    def fullname(self):\n",
    "        return f'{self.name} {self.last_name}'\n",
    "    \n",
    "    def __repr__(self):\n",
    "        return f\"Person({self.name}, {self.last_name}, {self.fee})\"\n",
    "    \n",
    "#     def __str__(self):\n",
    "#         pass\n",
    "    \n",
    "    \n",
    "    \n",
    "mark = Person('Mark', 'Darcy')\n",
    "\n",
    "print(mark)\n",
    "repr(mark)\n"
   ]
  },
  {
   "cell_type": "code",
   "execution_count": 8,
   "id": "66ea009b",
   "metadata": {},
   "outputs": [
    {
     "data": {
      "text/plain": [
       "Person(Mark, Darcy, 350)"
      ]
     },
     "execution_count": 8,
     "metadata": {},
     "output_type": "execute_result"
    }
   ],
   "source": [
    "mark"
   ]
  },
  {
   "cell_type": "code",
   "execution_count": 9,
   "id": "516adc70",
   "metadata": {},
   "outputs": [
    {
     "data": {
      "text/plain": [
       "'Person(Mark, Darcy, 350)'"
      ]
     },
     "execution_count": 9,
     "metadata": {},
     "output_type": "execute_result"
    }
   ],
   "source": [
    "str(mark)"
   ]
  },
  {
   "cell_type": "markdown",
   "id": "2abd59d3",
   "metadata": {},
   "source": [
    "Now let's add a `__str__` method"
   ]
  },
  {
   "cell_type": "code",
   "execution_count": 11,
   "id": "80b3b48b",
   "metadata": {},
   "outputs": [
    {
     "name": "stdout",
     "output_type": "stream",
     "text": [
      "Mark Darcy - Mark.Darcy@khpi.edu.ua\n"
     ]
    },
    {
     "data": {
      "text/plain": [
       "'Person(Mark, Darcy, 350)'"
      ]
     },
     "execution_count": 11,
     "metadata": {},
     "output_type": "execute_result"
    }
   ],
   "source": [
    "class Person:\n",
    "    \n",
    "    def __init__(self, name, last_name, fee=350):\n",
    "        self.name = name\n",
    "        self.last_name = last_name\n",
    "        self.email = f'{name}.{last_name}@khpi.edu.ua'\n",
    "        self.fee = fee\n",
    "        \n",
    "        \n",
    "    def fullname(self):\n",
    "        return f'{self.name} {self.last_name}'\n",
    "    \n",
    "    def __repr__(self):\n",
    "        return f\"Person({self.name}, {self.last_name}, {self.fee})\"\n",
    "    \n",
    "    def __str__(self):\n",
    "        return f\"{self.fullname()} - {self.email}\"\n",
    "        pass\n",
    "    \n",
    "    \n",
    "    \n",
    "mark = Person('Mark', 'Darcy')\n",
    "\n",
    "print(mark)\n",
    "repr(mark)"
   ]
  },
  {
   "cell_type": "code",
   "execution_count": 12,
   "id": "4c393f22",
   "metadata": {},
   "outputs": [
    {
     "data": {
      "text/plain": [
       "'Mark Darcy - Mark.Darcy@khpi.edu.ua'"
      ]
     },
     "execution_count": 12,
     "metadata": {},
     "output_type": "execute_result"
    }
   ],
   "source": [
    "str(mark)"
   ]
  },
  {
   "cell_type": "code",
   "execution_count": 13,
   "id": "9390f05f",
   "metadata": {},
   "outputs": [
    {
     "name": "stdout",
     "output_type": "stream",
     "text": [
      "Mark Darcy - Mark.Darcy@khpi.edu.ua\n",
      "Person(Mark, Darcy, 350)\n"
     ]
    }
   ],
   "source": [
    "print(mark.__str__())\n",
    "print(mark.__repr__())"
   ]
  },
  {
   "cell_type": "markdown",
   "id": "a89cb2bc",
   "metadata": {},
   "source": [
    "These two special methods allow us to\n",
    "change how our objects are printed and\n",
    "displayed"
   ]
  },
  {
   "cell_type": "markdown",
   "id": "077e3d40",
   "metadata": {},
   "source": [
    "There are also a lot of special methods\n",
    "for arithmetic"
   ]
  },
  {
   "cell_type": "code",
   "execution_count": 17,
   "id": "c0ecd00a",
   "metadata": {},
   "outputs": [
    {
     "data": {
      "text/plain": [
       "5"
      ]
     },
     "execution_count": 17,
     "metadata": {},
     "output_type": "execute_result"
    }
   ],
   "source": [
    "2 + 3"
   ]
  },
  {
   "cell_type": "markdown",
   "id": "11d48130",
   "metadata": {},
   "source": [
    "This operation is actually using a special method in the background called dunder add (`__add__`) so we can actually access this directly so if we\n",
    "run that and we can see that that gives us the\n",
    "same result"
   ]
  },
  {
   "cell_type": "code",
   "execution_count": 18,
   "id": "7c8d3eb3",
   "metadata": {},
   "outputs": [
    {
     "data": {
      "text/plain": [
       "5"
      ]
     },
     "execution_count": 18,
     "metadata": {},
     "output_type": "execute_result"
    }
   ],
   "source": [
    "int.__add__(2,3)"
   ]
  },
  {
   "cell_type": "code",
   "execution_count": 33,
   "id": "f4a3662c",
   "metadata": {},
   "outputs": [
    {
     "data": {
      "text/plain": [
       "5"
      ]
     },
     "execution_count": 33,
     "metadata": {},
     "output_type": "execute_result"
    }
   ],
   "source": [
    "(2).__add__(3)"
   ]
  },
  {
   "cell_type": "markdown",
   "id": "337546c6",
   "metadata": {},
   "source": [
    "But strings use their own `__add__` methods"
   ]
  },
  {
   "cell_type": "code",
   "execution_count": 20,
   "id": "77317a9b",
   "metadata": {},
   "outputs": [
    {
     "data": {
      "text/plain": [
       "'ab'"
      ]
     },
     "execution_count": 20,
     "metadata": {},
     "output_type": "execute_result"
    }
   ],
   "source": [
    "str.__add__('a','b')"
   ]
  },
  {
   "cell_type": "code",
   "execution_count": 34,
   "id": "71623bf8",
   "metadata": {},
   "outputs": [
    {
     "data": {
      "text/plain": [
       "'ab'"
      ]
     },
     "execution_count": 34,
     "metadata": {},
     "output_type": "execute_result"
    }
   ],
   "source": [
    "'a'.__add__('b')"
   ]
  },
  {
   "cell_type": "markdown",
   "id": "56d190a1",
   "metadata": {},
   "source": [
    "So we can see, that this method actually concatenate these two character"
   ]
  },
  {
   "cell_type": "markdown",
   "id": "287893d3",
   "metadata": {},
   "source": [
    "So let's say that with our\n",
    "`Person` class we wanted to be able to\n",
    "calculate total fee just by adding two\n",
    "`Person` together "
   ]
  },
  {
   "cell_type": "code",
   "execution_count": 21,
   "id": "f756b25a",
   "metadata": {},
   "outputs": [
    {
     "data": {
      "text/plain": [
       "550"
      ]
     },
     "execution_count": 21,
     "metadata": {},
     "output_type": "execute_result"
    }
   ],
   "source": [
    "class Person:\n",
    "    \n",
    "    def __init__(self, name, last_name, fee=350):\n",
    "        self.name = name\n",
    "        self.last_name = last_name\n",
    "        self.email = f'{name}.{last_name}@khpi.edu.ua'\n",
    "        self.fee = fee\n",
    "        \n",
    "        \n",
    "    def fullname(self):\n",
    "        return f'{self.name} {self.last_name}'\n",
    "    \n",
    "    def __repr__(self):\n",
    "        return f\"Person({self.name}, {self.last_name}, {self.fee})\"\n",
    "    \n",
    "    def __str__(self):\n",
    "        return f\"{self.fullname()} - {self.email}\"\n",
    "        pass\n",
    "    \n",
    "    def __add__(self, other):\n",
    "        return self.fee + other.fee\n",
    "    \n",
    "    \n",
    "mark = Person('Mark', 'Darcy')\n",
    "mary = Person('Mary', 'Shelley', 200)\n",
    "\n",
    "mark + mary\n"
   ]
  },
  {
   "cell_type": "markdown",
   "id": "1cc09b82",
   "metadata": {},
   "source": [
    "Now we have this result of total fee of `mark` and `mary`"
   ]
  },
  {
   "cell_type": "markdown",
   "id": "fb46fa2a",
   "metadata": {},
   "source": [
    "If we didn't have this  `__add__` method, we will have and error"
   ]
  },
  {
   "cell_type": "code",
   "execution_count": 22,
   "id": "b6e92c47",
   "metadata": {},
   "outputs": [
    {
     "ename": "TypeError",
     "evalue": "unsupported operand type(s) for +: 'Person' and 'Person'",
     "output_type": "error",
     "traceback": [
      "\u001b[1;31m-----------------------------------------------------------\u001b[0m",
      "\u001b[1;31mTypeError\u001b[0m                 Traceback (most recent call last)",
      "Cell \u001b[1;32mIn[22], line 27\u001b[0m\n\u001b[0;32m     24\u001b[0m mark \u001b[38;5;241m=\u001b[39m Person(\u001b[38;5;124m'\u001b[39m\u001b[38;5;124mMark\u001b[39m\u001b[38;5;124m'\u001b[39m, \u001b[38;5;124m'\u001b[39m\u001b[38;5;124mDarcy\u001b[39m\u001b[38;5;124m'\u001b[39m)\n\u001b[0;32m     25\u001b[0m mary \u001b[38;5;241m=\u001b[39m Person(\u001b[38;5;124m'\u001b[39m\u001b[38;5;124mMary\u001b[39m\u001b[38;5;124m'\u001b[39m, \u001b[38;5;124m'\u001b[39m\u001b[38;5;124mShelley\u001b[39m\u001b[38;5;124m'\u001b[39m, \u001b[38;5;241m200\u001b[39m)\n\u001b[1;32m---> 27\u001b[0m \u001b[43mmark\u001b[49m\u001b[43m \u001b[49m\u001b[38;5;241;43m+\u001b[39;49m\u001b[43m \u001b[49m\u001b[43mmary\u001b[49m\n",
      "\u001b[1;31mTypeError\u001b[0m: unsupported operand type(s) for +: 'Person' and 'Person'"
     ]
    }
   ],
   "source": [
    "class Person:\n",
    "    \n",
    "    def __init__(self, name, last_name, fee=350):\n",
    "        self.name = name\n",
    "        self.last_name = last_name\n",
    "        self.email = f'{name}.{last_name}@khpi.edu.ua'\n",
    "        self.fee = fee\n",
    "        \n",
    "        \n",
    "    def fullname(self):\n",
    "        return f'{self.name} {self.last_name}'\n",
    "    \n",
    "    def __repr__(self):\n",
    "        return f\"Person({self.name}, {self.last_name}, {self.fee})\"\n",
    "    \n",
    "    def __str__(self):\n",
    "        return f\"{self.fullname()} - {self.email}\"\n",
    "        pass\n",
    "    \n",
    "#     def __add__(self, other):\n",
    "#         return self.fee + other.fee\n",
    "    \n",
    "    \n",
    "mark = Person('Mark', 'Darcy')\n",
    "mary = Person('Mary', 'Shelley', 200)\n",
    "\n",
    "mark + mary"
   ]
  },
  {
   "cell_type": "markdown",
   "id": "92ce5997",
   "metadata": {},
   "source": [
    "https://docs.python.org/3/reference/datamodel.html#special-method-names"
   ]
  },
  {
   "cell_type": "markdown",
   "id": "c65d2395",
   "metadata": {},
   "source": [
    "Now if we want to print for example a lenght of a string"
   ]
  },
  {
   "cell_type": "code",
   "execution_count": 30,
   "id": "59af146b",
   "metadata": {},
   "outputs": [
    {
     "data": {
      "text/plain": [
       "11"
      ]
     },
     "execution_count": 30,
     "metadata": {},
     "output_type": "execute_result"
    }
   ],
   "source": [
    "len('some string')"
   ]
  },
  {
   "cell_type": "markdown",
   "id": "1a531866",
   "metadata": {},
   "source": [
    "We also can call explicitly the `__len__` method "
   ]
  },
  {
   "cell_type": "code",
   "execution_count": 31,
   "id": "119b5a4b",
   "metadata": {},
   "outputs": [
    {
     "data": {
      "text/plain": [
       "11"
      ]
     },
     "execution_count": 31,
     "metadata": {},
     "output_type": "execute_result"
    }
   ],
   "source": [
    "'some string'.__len__()"
   ]
  },
  {
   "cell_type": "code",
   "execution_count": 35,
   "id": "bfdaa8af",
   "metadata": {},
   "outputs": [
    {
     "data": {
      "text/plain": [
       "11"
      ]
     },
     "execution_count": 35,
     "metadata": {},
     "output_type": "execute_result"
    }
   ],
   "source": [
    "str.__len__('some string')"
   ]
  },
  {
   "cell_type": "markdown",
   "id": "f5514e04",
   "metadata": {},
   "source": [
    "if we want this `len` function\n",
    "to work on our objects then we'll have\n",
    "to create a `__len__` method \n",
    "\n",
    "For example when we ran `len` on\n",
    "our `Person` instance that we wanted it\n",
    "to return the total number of characters\n",
    "and their full name and maybe this could\n",
    "be useful if someone's writing a\n",
    "document and needs to know how many\n",
    "characters the `Person`'s name will take\n",
    "up"
   ]
  },
  {
   "cell_type": "code",
   "execution_count": 38,
   "id": "48ba468b",
   "metadata": {},
   "outputs": [
    {
     "name": "stdout",
     "output_type": "stream",
     "text": [
      "10\n",
      "12\n"
     ]
    }
   ],
   "source": [
    "class Person:\n",
    "    \n",
    "    def __init__(self, name, last_name, fee=350):\n",
    "        self.name = name\n",
    "        self.last_name = last_name\n",
    "        self.email = f'{name}.{last_name}@khpi.edu.ua'\n",
    "        self.fee = fee\n",
    "        \n",
    "        \n",
    "    def fullname(self):\n",
    "        return f'{self.name} {self.last_name}'\n",
    "    \n",
    "    def __repr__(self):\n",
    "        return f\"Person({self.name}, {self.last_name}, {self.fee})\"\n",
    "    \n",
    "    def __str__(self):\n",
    "        return f\"{self.fullname()} - {self.email}\"\n",
    "        pass\n",
    "    \n",
    "    def __add__(self, other):\n",
    "        return self.fee + other.fee\n",
    "    \n",
    "    def __len__(self):\n",
    "        return len(self.fullname())\n",
    "    \n",
    "  \n",
    "    \n",
    "    \n",
    "mark = Person('Mark', 'Darcy')\n",
    "mary = Person('Mary', 'Shelley', 200)\n",
    "\n",
    "print(len(mark))\n",
    "print(len(mary))"
   ]
  },
  {
   "cell_type": "code",
   "execution_count": 58,
   "id": "4e7f0a7f",
   "metadata": {},
   "outputs": [
    {
     "name": "stdout",
     "output_type": "stream",
     "text": [
      "True\n",
      "False\n",
      "False\n"
     ]
    },
    {
     "ename": "TypeError",
     "evalue": "'>=' not supported between instances of 'Person' and 'Person'",
     "output_type": "error",
     "traceback": [
      "\u001b[1;31m-----------------------------------------------------------\u001b[0m",
      "\u001b[1;31mTypeError\u001b[0m                 Traceback (most recent call last)",
      "Cell \u001b[1;32mIn[58], line 40\u001b[0m\n\u001b[0;32m     36\u001b[0m \u001b[38;5;28mprint\u001b[39m(mark \u001b[38;5;241m<\u001b[39m mary)\n\u001b[0;32m     38\u001b[0m \u001b[38;5;28mprint\u001b[39m(mark \u001b[38;5;241m==\u001b[39m mary)\n\u001b[1;32m---> 40\u001b[0m \u001b[38;5;28mprint\u001b[39m(\u001b[43mmark\u001b[49m\u001b[43m \u001b[49m\u001b[38;5;241;43m>\u001b[39;49m\u001b[38;5;241;43m=\u001b[39;49m\u001b[43m \u001b[49m\u001b[43mmary\u001b[49m)\n",
      "\u001b[1;31mTypeError\u001b[0m: '>=' not supported between instances of 'Person' and 'Person'"
     ]
    }
   ],
   "source": [
    "class Person:\n",
    "    \n",
    "    def __init__(self, name, last_name, fee=350):\n",
    "        self.name = name\n",
    "        self.last_name = last_name\n",
    "        self.email = f'{name}.{last_name}@khpi.edu.ua'\n",
    "        self.fee = fee\n",
    "        \n",
    "        \n",
    "    def fullname(self):\n",
    "        return f'{self.name} {self.last_name}'\n",
    "    \n",
    "    def __repr__(self):\n",
    "        return f\"Person({self.name}, {self.last_name}, {self.fee})\"\n",
    "    \n",
    "    def __str__(self):\n",
    "        return f\"{self.fullname()} - {self.email}\"\n",
    "        pass\n",
    "    \n",
    "    def __add__(self, other):\n",
    "        return self.fee + other.fee\n",
    "    \n",
    "    def __len__(self):\n",
    "        return len(self.fullname())\n",
    "    \n",
    "    def __gt__(self, other):\n",
    "        return self.fee > other.fee\n",
    "    \n",
    "  \n",
    "    \n",
    "    \n",
    "mark = Person('Mark', 'Darcy')\n",
    "mary = Person('Mary', 'Shelley', 200)\n",
    "\n",
    "print(mark > mary)\n",
    "print(mark < mary)\n",
    "\n",
    "print(mark == mary)\n",
    "\n",
    "print(mark >= mary)"
   ]
  },
  {
   "cell_type": "markdown",
   "id": "b833b70d",
   "metadata": {},
   "source": [
    "We have such a result because:\n",
    "- By default, object implements `__eq__()` by using `is`\n",
    "- `__lt__()` and `__gt__()` are each other’s reflection, `__le__()` and `__ge__()` are each other’s reflection, and `__eq__()` and` __ne__()` are their own reflection"
   ]
  },
  {
   "cell_type": "markdown",
   "id": "20132b0b",
   "metadata": {},
   "source": [
    "`@property` decorator"
   ]
  },
  {
   "cell_type": "code",
   "execution_count": 61,
   "id": "4ccf3c91",
   "metadata": {},
   "outputs": [
    {
     "name": "stdout",
     "output_type": "stream",
     "text": [
      "Mark\n",
      "Mark.Darcy@khpi.edu.ua\n",
      "Mark Darcy\n"
     ]
    }
   ],
   "source": [
    "class Person:\n",
    "    \n",
    "    def __init__(self, name, last_name, fee=350):\n",
    "        self.name = name\n",
    "        self.last_name = last_name\n",
    "        self.email = f'{name}.{last_name}@khpi.edu.ua'\n",
    "                \n",
    "        \n",
    "    def fullname(self):\n",
    "        return f'{self.name} {self.last_name}'\n",
    "    \n",
    "person = Person('Mark', 'Darcy')\n",
    "print(person.name)\n",
    "print(person.email)\n",
    "print(person.fullname())"
   ]
  },
  {
   "cell_type": "code",
   "execution_count": 63,
   "id": "24ae6fd0",
   "metadata": {},
   "outputs": [
    {
     "name": "stdout",
     "output_type": "stream",
     "text": [
      "John\n",
      "Mark.Darcy@khpi.edu.ua\n",
      "John Darcy\n"
     ]
    }
   ],
   "source": [
    "person.name = 'John'\n",
    "print(person.name)\n",
    "print(person.email)\n",
    "print(person.fullname())"
   ]
  },
  {
   "cell_type": "markdown",
   "id": "e2d28e3f",
   "metadata": {},
   "source": [
    "The first thought is to make a method that will automatically update the email as soon as the name changes."
   ]
  },
  {
   "cell_type": "code",
   "execution_count": 66,
   "id": "e499255f",
   "metadata": {},
   "outputs": [
    {
     "name": "stdout",
     "output_type": "stream",
     "text": [
      "Mark\n",
      "Mark.Darcy@khpi.edu.ua\n",
      "Mark Darcy\n"
     ]
    }
   ],
   "source": [
    "class Person:\n",
    "    \n",
    "    def __init__(self, name, last_name, fee=350):\n",
    "        self.name = name\n",
    "        self.last_name = last_name\n",
    "#         self.email = f'{name}.{last_name}@khpi.edu.ua'\n",
    "       \n",
    "    def email(self):\n",
    "        return f'{self.name}.{self.last_name}@khpi.edu.ua'\n",
    "        \n",
    "    def fullname(self):\n",
    "        return f'{self.name} {self.last_name}'\n",
    "    \n",
    "person = Person('Mark', 'Darcy')\n",
    "print(person.name)\n",
    "print(person.email())\n",
    "print(person.fullname())"
   ]
  },
  {
   "cell_type": "code",
   "execution_count": null,
   "id": "fa4d1758",
   "metadata": {},
   "outputs": [],
   "source": [
    "In order\n",
    "to continue accessing email like an\n",
    "attribute I can just add a property\n",
    "decorator above this method"
   ]
  },
  {
   "cell_type": "code",
   "execution_count": 97,
   "id": "ae957eb4",
   "metadata": {},
   "outputs": [
    {
     "name": "stdout",
     "output_type": "stream",
     "text": [
      "Mark\n",
      "Mark.Darcy@khpi.edu.ua\n",
      "Mark Darcy\n"
     ]
    }
   ],
   "source": [
    "class Person:\n",
    "    \n",
    "    def __init__(self, name, last_name, fee=350):\n",
    "        self.name = name\n",
    "        self.last_name = last_name\n",
    "#         self.email = f'{name}.{last_name}@khpi.edu.ua'\n",
    "       \n",
    "    @property\n",
    "    def email(self):\n",
    "        return f'{self.name}\\\n",
    ".{self.last_name}@khpi.edu.ua'\n",
    "    \n",
    " \n",
    "    def fullname(self):\n",
    "        return f'{self.name} {self.last_name}'\n",
    "    \n",
    "person = Person('Mark', 'Darcy')\n",
    "print(person.name)\n",
    "print(person.email)\n",
    "print(person.fullname())"
   ]
  },
  {
   "cell_type": "markdown",
   "id": "395a244c",
   "metadata": {},
   "source": [
    "If we will try to set \n",
    "\n",
    "`person.fullname = 'John Doe'` - we get an error\n",
    "```\n",
    "AttributeError: can't set attribute\n",
    "```"
   ]
  },
  {
   "cell_type": "markdown",
   "id": "21715040",
   "metadata": {},
   "source": [
    "even if we add there `@property` decorator "
   ]
  },
  {
   "cell_type": "code",
   "execution_count": 100,
   "id": "805af6e3",
   "metadata": {},
   "outputs": [
    {
     "ename": "AttributeError",
     "evalue": "can't set attribute",
     "output_type": "error",
     "traceback": [
      "\u001b[1;31m-----------------------------------------------------------\u001b[0m",
      "\u001b[1;31mAttributeError\u001b[0m            Traceback (most recent call last)",
      "Cell \u001b[1;32mIn[100], line 20\u001b[0m\n\u001b[0;32m     14\u001b[0m         \u001b[38;5;28;01mreturn\u001b[39;00m \u001b[38;5;124mf\u001b[39m\u001b[38;5;124m'\u001b[39m\u001b[38;5;132;01m{\u001b[39;00m\u001b[38;5;28mself\u001b[39m\u001b[38;5;241m.\u001b[39mname\u001b[38;5;132;01m}\u001b[39;00m\u001b[38;5;124m \u001b[39m\u001b[38;5;132;01m{\u001b[39;00m\u001b[38;5;28mself\u001b[39m\u001b[38;5;241m.\u001b[39mlast_name\u001b[38;5;132;01m}\u001b[39;00m\u001b[38;5;124m'\u001b[39m\n\u001b[0;32m     18\u001b[0m person \u001b[38;5;241m=\u001b[39m Person(\u001b[38;5;124m'\u001b[39m\u001b[38;5;124mMark\u001b[39m\u001b[38;5;124m'\u001b[39m, \u001b[38;5;124m'\u001b[39m\u001b[38;5;124mDarcy\u001b[39m\u001b[38;5;124m'\u001b[39m)\n\u001b[1;32m---> 20\u001b[0m \u001b[43mperson\u001b[49m\u001b[38;5;241;43m.\u001b[39;49m\u001b[43mfullname\u001b[49m \u001b[38;5;241m=\u001b[39m \u001b[38;5;124m'\u001b[39m\u001b[38;5;124mJohn Doe\u001b[39m\u001b[38;5;124m'\u001b[39m\n\u001b[0;32m     21\u001b[0m \u001b[38;5;28mprint\u001b[39m(person\u001b[38;5;241m.\u001b[39mname)\n\u001b[0;32m     22\u001b[0m \u001b[38;5;28mprint\u001b[39m(person\u001b[38;5;241m.\u001b[39memail)\n",
      "\u001b[1;31mAttributeError\u001b[0m: can't set attribute"
     ]
    }
   ],
   "source": [
    "class Person:\n",
    "    \n",
    "    def __init__(self, name, last_name, fee=350):\n",
    "        self.name = name\n",
    "        self.last_name = last_name\n",
    "#         self.email = f'{name}.{last_name}@khpi.edu.ua'\n",
    "       \n",
    "    @property\n",
    "    def email(self):\n",
    "        return f'{self.name}.{self.last_name}@khpi.edu.ua'\n",
    "    \n",
    "    @property    \n",
    "    def fullname(self):\n",
    "        return f'{self.name} {self.last_name}'\n",
    "    \n",
    "    \n",
    "    \n",
    "person = Person('Mark', 'Darcy')\n",
    "\n",
    "person.fullname = 'John Doe'\n",
    "print(person.name)\n",
    "print(person.email)\n",
    "print(person.fullname)"
   ]
  },
  {
   "cell_type": "markdown",
   "id": "50fc4bd0",
   "metadata": {},
   "source": [
    "To be able change a fullname we should add setter\n",
    "`@fullname.setter`"
   ]
  },
  {
   "cell_type": "code",
   "execution_count": 101,
   "id": "6385da26",
   "metadata": {},
   "outputs": [
    {
     "name": "stdout",
     "output_type": "stream",
     "text": [
      "John\n",
      "John.Doe@khpi.edu.ua\n",
      "John Doe\n"
     ]
    }
   ],
   "source": [
    "class Person:\n",
    "    \n",
    "    def __init__(self, name, last_name, fee=350):\n",
    "        self.name = name\n",
    "        self.last_name = last_name\n",
    "#         self.email = f'{name}.{last_name}@khpi.edu.ua'\n",
    "       \n",
    "    @property\n",
    "    def email(self):\n",
    "        return f'{self.name}.{self.last_name}@khpi.edu.ua'\n",
    "    \n",
    "    @property    \n",
    "    def fullname(self):\n",
    "        return f'{self.name} {self.last_name}'\n",
    "    \n",
    "    @fullname.setter\n",
    "    def fullname(self,name):\n",
    "        name, last_name = name.split(' ')\n",
    "        self.name = name\n",
    "        self.last_name = last_name\n",
    "          \n",
    "person = Person('Mark', 'Darcy')\n",
    "\n",
    "person.fullname = 'John Doe'\n",
    "\n",
    "print(person.name)\n",
    "print(person.email)\n",
    "print(person.fullname)"
   ]
  },
  {
   "cell_type": "code",
   "execution_count": 108,
   "id": "e03345a0",
   "metadata": {},
   "outputs": [
    {
     "name": "stdout",
     "output_type": "stream",
     "text": [
      "John\n",
      "John.Doe@khpi.edu.ua\n",
      "John Doe\n",
      "Delete {self.__name__}\n"
     ]
    },
    {
     "ename": "AttributeError",
     "evalue": "'Person' object has no attribute 'name'",
     "output_type": "error",
     "traceback": [
      "\u001b[1;31m-----------------------------------------------------------\u001b[0m",
      "\u001b[1;31mAttributeError\u001b[0m            Traceback (most recent call last)",
      "Cell \u001b[1;32mIn[108], line 39\u001b[0m\n\u001b[0;32m     35\u001b[0m \u001b[38;5;28mprint\u001b[39m(person\u001b[38;5;241m.\u001b[39mfullname)\n\u001b[0;32m     37\u001b[0m \u001b[38;5;28;01mdel\u001b[39;00m person\u001b[38;5;241m.\u001b[39mfullname\n\u001b[1;32m---> 39\u001b[0m \u001b[38;5;28mprint\u001b[39m(\u001b[43mperson\u001b[49m\u001b[38;5;241;43m.\u001b[39;49m\u001b[43mname\u001b[49m)\n\u001b[0;32m     40\u001b[0m \u001b[38;5;28mprint\u001b[39m(person\u001b[38;5;241m.\u001b[39memail)\n\u001b[0;32m     41\u001b[0m \u001b[38;5;28mprint\u001b[39m(person\u001b[38;5;241m.\u001b[39mfullname)\n",
      "\u001b[1;31mAttributeError\u001b[0m: 'Person' object has no attribute 'name'"
     ]
    }
   ],
   "source": [
    "class Person:\n",
    "    \n",
    "    def __init__(self, name, last_name, fee=350):\n",
    "        self.name = name\n",
    "        self.last_name = last_name\n",
    "#         self.email = f'{name}.{last_name}@khpi.edu.ua'\n",
    "       \n",
    "    @property\n",
    "    def email(self):\n",
    "        return f'{self.name}.{self.last_name}@khpi.edu.ua'\n",
    "    \n",
    "    @property    \n",
    "    def fullname(self):\n",
    "        return f'{self.name} {self.last_name}'\n",
    "    \n",
    "    @fullname.setter\n",
    "    def fullname(self,str_name):\n",
    "        name, last_name = str_name.split(' ')\n",
    "        self.name = name\n",
    "        self.last_name = last_name\n",
    "        \n",
    "    @fullname.deleter\n",
    "    def fullname(self):\n",
    "        print('Delete {self.__name__}')\n",
    "#         self.name = None\n",
    "#         self.last_name = None\n",
    "        del self.name\n",
    "        del self.last_name\n",
    "    \n",
    "person = Person('Mark', 'Darcy')\n",
    "\n",
    "person.fullname = 'John Doe'\n",
    "print(person.name)\n",
    "print(person.email)\n",
    "print(person.fullname)\n",
    "\n",
    "del person.fullname\n",
    "\n",
    "print(person.name)\n",
    "print(person.email)\n",
    "print(person.fullname)"
   ]
  },
  {
   "cell_type": "markdown",
   "id": "45d29ce4",
   "metadata": {},
   "source": [
    "## Example"
   ]
  },
  {
   "cell_type": "markdown",
   "id": "e9935846",
   "metadata": {},
   "source": [
    "    1) Create the class `Point` and implement the following methods:\n",
    "    ˗\tConstructor with `x` and `y` coordinates as parameters;\n",
    "    ˗\t`__str__` method to represents the class objects as a string.\n",
    "    2) Create the custom exception class WrongDataError, that will output \"This points create a degenerate square\" message when area of the square is equal to 0\n",
    "    3) Create the custom exception class MissingParameterError, that will output \"Missing parameter\" message when Square instance will be created with only one argument.\n",
    "    4) Create the class `Square` with the following methods:\n",
    "        ˗\tConstructor with 2 vertices as parameters (left top and right bottom). All vertices are instances of `Point` class\n",
    "            •\tEnsure that created square exists and is not degenerative. Raise WrongDataError exception \n",
    "            otherwise.\n",
    "            •\tEnsure that created square has 2 vertices. Raise MissingParameterError exception otherwise.\n",
    "        ˗\tarea()\n",
    "        Returns the area of the triangle.\n",
    "        ˗\tperimeter()\n",
    "        Returns perimeter rounded off to 3 decimals places\n",
    "        -\t`__str__ `\n",
    "        method to represents the class objects as a string.\n",
    "\n",
    "\n"
   ]
  },
  {
   "cell_type": "code",
   "execution_count": 2,
   "id": "d58fe609",
   "metadata": {},
   "outputs": [
    {
     "name": "stdout",
     "output_type": "stream",
     "text": [
      "A square ABCD: \n",
      "                A = (1, 3),\n",
      "                B = (6, -7),\n",
      "                C = (-4, -2)\n",
      "                D = (1, -2),\n",
      "25\n",
      "20\n",
      "False\n"
     ]
    }
   ],
   "source": [
    "import math\n",
    "class Point:\n",
    "    def __init__(self,x,y):\n",
    "        self.x = x\n",
    "        self.y = y\n",
    "    \n",
    "    def __str__(self):\n",
    "        return f\"x = {self.x}, y = {self.y}\"\n",
    "\n",
    "class MissingParameterError(Exception):\n",
    "\n",
    "    def __str__(self):\n",
    "        return f\"Missing parameter\"\n",
    "\n",
    "class WrondDataError(Exception):\n",
    "\n",
    "    def __str__(self):\n",
    "        return f\"You cannot create a square with these vercities\"\n",
    "\n",
    "class Square:\n",
    "\n",
    "    def __init__(self, left_top: Point = None, right_bottom: Point = None):\n",
    "        if not left_top or not right_bottom:\n",
    "            raise MissingParameterError()\n",
    "        \n",
    "        if abs(left_top.x - right_bottom.x) != abs(left_top.y - right_bottom.y):\n",
    "            raise WrondDataError()\n",
    "            \n",
    "        if (left_top.x - right_bottom.x)**2 == 0:\n",
    "            raise WrondDataError()\n",
    "\n",
    "        self.left_top = left_top\n",
    "        self.right_bottom = right_bottom\n",
    "        \n",
    "\n",
    "    def area(self):\n",
    "        S = (self.left_top.x - self.right_bottom.x)**2\n",
    "        return S  \n",
    "\n",
    "    def perimeter(self):\n",
    "        P = abs(self.left_top.x - self.right_bottom.x)*4\n",
    "        return P        \n",
    "\n",
    "    def __str__(self):\n",
    "        d = abs(self.right_bottom.x - self.left_top.x)\n",
    "            \n",
    "        return f\"\"\"A square ABCD: \n",
    "                A = {(self.left_top.x,self.left_top.y)},\n",
    "                B = {(self.left_top.x + d,self.right_bottom.y - d)},\n",
    "                C = {(self.right_bottom.x,self.right_bottom.y)}\n",
    "                D = {(self.left_top.x,self.right_bottom.y)},\"\"\"\n",
    "\n",
    "    def are_equal(self, other):\n",
    "        S = (self.left_top.x - self.right_bottom.x)**2\n",
    "        S1 = (other.left_top.x - other.right_bottom.x)**2 \n",
    "        if S == S1:\n",
    "            return True\n",
    "        else: \n",
    "            return False\n",
    "        \n",
    "    def __eq__(self, other):\n",
    "        S = (self.left_top.x - self.right_bottom.x)**2\n",
    "        S1 = (other.left_top.x - other.right_bottom.x)**2 \n",
    "        if S == S1:\n",
    "            return True\n",
    "        else: \n",
    "            return False\n",
    "\n",
    "A = Point(-3, -2)\n",
    "B = Point(0, 0)\n",
    "# square = Square(Point(1, 3), Point(1, 3))\n",
    "square = Square(Point(1, 3), Point(-4, -2))\n",
    "# square = Square(Point(-3, -3), Point(0, 0))\n",
    "\n",
    "print(square)\n",
    "print(square.area())\n",
    "print(square.perimeter())\n",
    "print(square.are_equal(Square(Point(0, 0), Point(2, 2))))"
   ]
  },
  {
   "cell_type": "code",
   "execution_count": 3,
   "id": "b05b95aa",
   "metadata": {
    "scrolled": false
   },
   "outputs": [
    {
     "name": "stdout",
     "output_type": "stream",
     "text": [
      "A square ABCD: \n",
      "                A = (1, 3),\n",
      "                B = (6, -7),\n",
      "                C = (-4, -2)\n",
      "                D = (1, -2),\n",
      "25\n",
      "20\n"
     ]
    }
   ],
   "source": [
    "square = Square(Point(1, 3), Point(-4, -2))\n",
    "print(square)\n",
    "print(square.area())\n",
    "print(square.perimeter())"
   ]
  },
  {
   "cell_type": "code",
   "execution_count": 4,
   "id": "1cdedcf1",
   "metadata": {},
   "outputs": [
    {
     "data": {
      "text/plain": [
       "True"
      ]
     },
     "execution_count": 4,
     "metadata": {},
     "output_type": "execute_result"
    }
   ],
   "source": [
    "square == Square(Point(0, 0), Point(5, 5))"
   ]
  },
  {
   "cell_type": "code",
   "execution_count": 5,
   "id": "d2e48149",
   "metadata": {},
   "outputs": [
    {
     "data": {
      "text/plain": [
       "False"
      ]
     },
     "execution_count": 5,
     "metadata": {},
     "output_type": "execute_result"
    }
   ],
   "source": [
    "square == Square(Point(0, 0), Point(2, 2))"
   ]
  },
  {
   "cell_type": "code",
   "execution_count": null,
   "id": "0ec3bd16",
   "metadata": {},
   "outputs": [],
   "source": []
  }
 ],
 "metadata": {
  "kernelspec": {
   "display_name": "Python 3",
   "language": "python",
   "name": "python3"
  },
  "language_info": {
   "codemirror_mode": {
    "name": "ipython",
    "version": 3
   },
   "file_extension": ".py",
   "mimetype": "text/x-python",
   "name": "python",
   "nbconvert_exporter": "python",
   "pygments_lexer": "ipython3",
   "version": "3.8.2"
  }
 },
 "nbformat": 4,
 "nbformat_minor": 5
}
